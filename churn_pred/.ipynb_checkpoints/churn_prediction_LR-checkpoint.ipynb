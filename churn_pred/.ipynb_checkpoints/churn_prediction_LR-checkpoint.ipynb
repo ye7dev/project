{
 "cells": [
  {
   "cell_type": "markdown",
   "id": "06adee88-e8d5-4e25-b608-48646a6dbabc",
   "metadata": {},
   "source": [
    "### 1. Importing Packages and Loading Data"
   ]
  },
  {
   "cell_type": "code",
   "execution_count": 1,
   "id": "e3feec20-9b4c-4f36-b2b7-3797517c9280",
   "metadata": {},
   "outputs": [],
   "source": [
    "import pandas as pd\n",
    "from zipfile import ZipFile\n",
    "import os\n",
    " \n",
    "import seaborn as sns\n",
    "import matplotlib.pyplot as plt\n",
    "import numpy as np\n",
    "\n",
    "import math"
   ]
  },
  {
   "cell_type": "code",
   "execution_count": 2,
   "id": "dfc2834a-61ce-4745-aa9c-ec5c092453f9",
   "metadata": {},
   "outputs": [
    {
     "name": "stdout",
     "output_type": "stream",
     "text": [
      "['Customer Churn.csv']\n"
     ]
    }
   ],
   "source": [
    "file_path = './iranian+churn+dataset.zip'\n",
    "\n",
    "with ZipFile(file_path) as z:\n",
    "    print(z.namelist())"
   ]
  },
  {
   "cell_type": "code",
   "execution_count": 3,
   "id": "44ad6973-2856-47e7-82dc-630131d84432",
   "metadata": {},
   "outputs": [],
   "source": [
    "filename = z.namelist()[0]\n",
    "with ZipFile(file_path).open(filename) as f:\n",
    "    df = pd.read_csv(f)"
   ]
  },
  {
   "cell_type": "code",
   "execution_count": 4,
   "id": "235ffa11-c598-40ad-b900-c20aae3cb73e",
   "metadata": {},
   "outputs": [
    {
     "data": {
      "text/html": [
       "<div>\n",
       "<style scoped>\n",
       "    .dataframe tbody tr th:only-of-type {\n",
       "        vertical-align: middle;\n",
       "    }\n",
       "\n",
       "    .dataframe tbody tr th {\n",
       "        vertical-align: top;\n",
       "    }\n",
       "\n",
       "    .dataframe thead th {\n",
       "        text-align: right;\n",
       "    }\n",
       "</style>\n",
       "<table border=\"1\" class=\"dataframe\">\n",
       "  <thead>\n",
       "    <tr style=\"text-align: right;\">\n",
       "      <th></th>\n",
       "      <th>Call  Failure</th>\n",
       "      <th>Complains</th>\n",
       "      <th>Subscription  Length</th>\n",
       "      <th>Charge  Amount</th>\n",
       "      <th>Seconds of Use</th>\n",
       "      <th>Frequency of use</th>\n",
       "      <th>Frequency of SMS</th>\n",
       "      <th>Distinct Called Numbers</th>\n",
       "      <th>Age Group</th>\n",
       "      <th>Tariff Plan</th>\n",
       "      <th>Status</th>\n",
       "      <th>Age</th>\n",
       "      <th>Customer Value</th>\n",
       "      <th>Churn</th>\n",
       "    </tr>\n",
       "  </thead>\n",
       "  <tbody>\n",
       "    <tr>\n",
       "      <th>0</th>\n",
       "      <td>8</td>\n",
       "      <td>0</td>\n",
       "      <td>38</td>\n",
       "      <td>0</td>\n",
       "      <td>4370</td>\n",
       "      <td>71</td>\n",
       "      <td>5</td>\n",
       "      <td>17</td>\n",
       "      <td>3</td>\n",
       "      <td>1</td>\n",
       "      <td>1</td>\n",
       "      <td>30</td>\n",
       "      <td>197.640</td>\n",
       "      <td>0</td>\n",
       "    </tr>\n",
       "    <tr>\n",
       "      <th>1</th>\n",
       "      <td>0</td>\n",
       "      <td>0</td>\n",
       "      <td>39</td>\n",
       "      <td>0</td>\n",
       "      <td>318</td>\n",
       "      <td>5</td>\n",
       "      <td>7</td>\n",
       "      <td>4</td>\n",
       "      <td>2</td>\n",
       "      <td>1</td>\n",
       "      <td>2</td>\n",
       "      <td>25</td>\n",
       "      <td>46.035</td>\n",
       "      <td>0</td>\n",
       "    </tr>\n",
       "    <tr>\n",
       "      <th>2</th>\n",
       "      <td>10</td>\n",
       "      <td>0</td>\n",
       "      <td>37</td>\n",
       "      <td>0</td>\n",
       "      <td>2453</td>\n",
       "      <td>60</td>\n",
       "      <td>359</td>\n",
       "      <td>24</td>\n",
       "      <td>3</td>\n",
       "      <td>1</td>\n",
       "      <td>1</td>\n",
       "      <td>30</td>\n",
       "      <td>1536.520</td>\n",
       "      <td>0</td>\n",
       "    </tr>\n",
       "    <tr>\n",
       "      <th>3</th>\n",
       "      <td>10</td>\n",
       "      <td>0</td>\n",
       "      <td>38</td>\n",
       "      <td>0</td>\n",
       "      <td>4198</td>\n",
       "      <td>66</td>\n",
       "      <td>1</td>\n",
       "      <td>35</td>\n",
       "      <td>1</td>\n",
       "      <td>1</td>\n",
       "      <td>1</td>\n",
       "      <td>15</td>\n",
       "      <td>240.020</td>\n",
       "      <td>0</td>\n",
       "    </tr>\n",
       "    <tr>\n",
       "      <th>4</th>\n",
       "      <td>3</td>\n",
       "      <td>0</td>\n",
       "      <td>38</td>\n",
       "      <td>0</td>\n",
       "      <td>2393</td>\n",
       "      <td>58</td>\n",
       "      <td>2</td>\n",
       "      <td>33</td>\n",
       "      <td>1</td>\n",
       "      <td>1</td>\n",
       "      <td>1</td>\n",
       "      <td>15</td>\n",
       "      <td>145.805</td>\n",
       "      <td>0</td>\n",
       "    </tr>\n",
       "  </tbody>\n",
       "</table>\n",
       "</div>"
      ],
      "text/plain": [
       "   Call  Failure  Complains  Subscription  Length  Charge  Amount  \\\n",
       "0              8          0                    38               0   \n",
       "1              0          0                    39               0   \n",
       "2             10          0                    37               0   \n",
       "3             10          0                    38               0   \n",
       "4              3          0                    38               0   \n",
       "\n",
       "   Seconds of Use  Frequency of use  Frequency of SMS  \\\n",
       "0            4370                71                 5   \n",
       "1             318                 5                 7   \n",
       "2            2453                60               359   \n",
       "3            4198                66                 1   \n",
       "4            2393                58                 2   \n",
       "\n",
       "   Distinct Called Numbers  Age Group  Tariff Plan  Status  Age  \\\n",
       "0                       17          3            1       1   30   \n",
       "1                        4          2            1       2   25   \n",
       "2                       24          3            1       1   30   \n",
       "3                       35          1            1       1   15   \n",
       "4                       33          1            1       1   15   \n",
       "\n",
       "   Customer Value  Churn  \n",
       "0         197.640      0  \n",
       "1          46.035      0  \n",
       "2        1536.520      0  \n",
       "3         240.020      0  \n",
       "4         145.805      0  "
      ]
     },
     "execution_count": 4,
     "metadata": {},
     "output_type": "execute_result"
    }
   ],
   "source": [
    "df.head()"
   ]
  },
  {
   "cell_type": "code",
   "execution_count": 5,
   "id": "18300b6a-ae41-462a-ba3b-25cef413ed66",
   "metadata": {},
   "outputs": [],
   "source": [
    "df.drop(columns=['Age'], inplace=True) # Drop duplicate feature"
   ]
  },
  {
   "cell_type": "markdown",
   "id": "127a274a-b757-4d8b-b32e-22fda4c1719b",
   "metadata": {},
   "source": [
    "### 2. Splitting Data into Train and Test Sets"
   ]
  },
  {
   "cell_type": "code",
   "execution_count": 6,
   "id": "1f602f7b-a46b-4a65-958c-fc49901b54d8",
   "metadata": {},
   "outputs": [
    {
     "name": "stdout",
     "output_type": "stream",
     "text": [
      "# of train samples: 2016\n",
      "# of valid samples: 504\n",
      "# of test samples: 630\n"
     ]
    }
   ],
   "source": [
    "from sklearn.model_selection import train_test_split\n",
    "\n",
    "# Use stratified split\n",
    "X = df.drop(columns = ['Churn']) # dataframe\n",
    "y = df['Churn'] # series\n",
    "\n",
    "X_train, X_test, y_train, y_test = train_test_split(X, y, test_size=0.2, random_state=42, stratify=y)\n",
    "X_train, X_valid, y_train, y_valid = train_test_split(X_train, y_train, test_size=0.2, random_state=42, stratify=y_train)\n",
    "\n",
    "# Reset Index\n",
    "X_train.reset_index(drop=True, inplace=True)\n",
    "X_valid.reset_index(drop=True, inplace=True)\n",
    "X_test.reset_index(drop=True, inplace=True)\n",
    "\n",
    "y_train.reset_index(drop=True, inplace=True)\n",
    "y_valid.reset_index(drop=True, inplace=True)\n",
    "y_test.reset_index(drop=True, inplace=True)\n",
    "\n",
    "print(f'# of train samples: {len(X_train)}')\n",
    "print(f'# of valid samples: {len(X_valid)}')\n",
    "print(f'# of test samples: {len(X_test)}')"
   ]
  },
  {
   "cell_type": "code",
   "execution_count": 7,
   "id": "54a2a4bc-5b28-4f85-9c39-38c5d96feb9a",
   "metadata": {},
   "outputs": [
    {
     "data": {
      "text/html": [
       "<div>\n",
       "<style scoped>\n",
       "    .dataframe tbody tr th:only-of-type {\n",
       "        vertical-align: middle;\n",
       "    }\n",
       "\n",
       "    .dataframe tbody tr th {\n",
       "        vertical-align: top;\n",
       "    }\n",
       "\n",
       "    .dataframe thead th {\n",
       "        text-align: right;\n",
       "    }\n",
       "</style>\n",
       "<table border=\"1\" class=\"dataframe\">\n",
       "  <thead>\n",
       "    <tr style=\"text-align: right;\">\n",
       "      <th></th>\n",
       "      <th>Call  Failure</th>\n",
       "      <th>Complains</th>\n",
       "      <th>Subscription  Length</th>\n",
       "      <th>Charge  Amount</th>\n",
       "      <th>Seconds of Use</th>\n",
       "      <th>Frequency of use</th>\n",
       "      <th>Frequency of SMS</th>\n",
       "      <th>Distinct Called Numbers</th>\n",
       "      <th>Age Group</th>\n",
       "      <th>Tariff Plan</th>\n",
       "      <th>Status</th>\n",
       "      <th>Customer Value</th>\n",
       "    </tr>\n",
       "  </thead>\n",
       "  <tbody>\n",
       "    <tr>\n",
       "      <th>0</th>\n",
       "      <td>18</td>\n",
       "      <td>0</td>\n",
       "      <td>22</td>\n",
       "      <td>2</td>\n",
       "      <td>6392</td>\n",
       "      <td>147</td>\n",
       "      <td>93</td>\n",
       "      <td>43</td>\n",
       "      <td>2</td>\n",
       "      <td>2</td>\n",
       "      <td>1</td>\n",
       "      <td>712.755</td>\n",
       "    </tr>\n",
       "    <tr>\n",
       "      <th>1</th>\n",
       "      <td>5</td>\n",
       "      <td>0</td>\n",
       "      <td>22</td>\n",
       "      <td>0</td>\n",
       "      <td>3530</td>\n",
       "      <td>61</td>\n",
       "      <td>7</td>\n",
       "      <td>24</td>\n",
       "      <td>3</td>\n",
       "      <td>1</td>\n",
       "      <td>1</td>\n",
       "      <td>171.640</td>\n",
       "    </tr>\n",
       "    <tr>\n",
       "      <th>2</th>\n",
       "      <td>6</td>\n",
       "      <td>0</td>\n",
       "      <td>35</td>\n",
       "      <td>0</td>\n",
       "      <td>2665</td>\n",
       "      <td>47</td>\n",
       "      <td>143</td>\n",
       "      <td>19</td>\n",
       "      <td>2</td>\n",
       "      <td>1</td>\n",
       "      <td>1</td>\n",
       "      <td>765.540</td>\n",
       "    </tr>\n",
       "    <tr>\n",
       "      <th>3</th>\n",
       "      <td>0</td>\n",
       "      <td>0</td>\n",
       "      <td>22</td>\n",
       "      <td>0</td>\n",
       "      <td>210</td>\n",
       "      <td>15</td>\n",
       "      <td>0</td>\n",
       "      <td>11</td>\n",
       "      <td>2</td>\n",
       "      <td>1</td>\n",
       "      <td>1</td>\n",
       "      <td>10.125</td>\n",
       "    </tr>\n",
       "    <tr>\n",
       "      <th>4</th>\n",
       "      <td>14</td>\n",
       "      <td>0</td>\n",
       "      <td>38</td>\n",
       "      <td>2</td>\n",
       "      <td>7428</td>\n",
       "      <td>86</td>\n",
       "      <td>116</td>\n",
       "      <td>37</td>\n",
       "      <td>2</td>\n",
       "      <td>1</td>\n",
       "      <td>1</td>\n",
       "      <td>860.130</td>\n",
       "    </tr>\n",
       "  </tbody>\n",
       "</table>\n",
       "</div>"
      ],
      "text/plain": [
       "   Call  Failure  Complains  Subscription  Length  Charge  Amount  \\\n",
       "0             18          0                    22               2   \n",
       "1              5          0                    22               0   \n",
       "2              6          0                    35               0   \n",
       "3              0          0                    22               0   \n",
       "4             14          0                    38               2   \n",
       "\n",
       "   Seconds of Use  Frequency of use  Frequency of SMS  \\\n",
       "0            6392               147                93   \n",
       "1            3530                61                 7   \n",
       "2            2665                47               143   \n",
       "3             210                15                 0   \n",
       "4            7428                86               116   \n",
       "\n",
       "   Distinct Called Numbers  Age Group  Tariff Plan  Status  Customer Value  \n",
       "0                       43          2            2       1         712.755  \n",
       "1                       24          3            1       1         171.640  \n",
       "2                       19          2            1       1         765.540  \n",
       "3                       11          2            1       1          10.125  \n",
       "4                       37          2            1       1         860.130  "
      ]
     },
     "execution_count": 7,
     "metadata": {},
     "output_type": "execute_result"
    }
   ],
   "source": [
    "X_train.head()"
   ]
  },
  {
   "cell_type": "code",
   "execution_count": 8,
   "id": "0423d790-b18b-4000-bd40-d67f8d450f59",
   "metadata": {
    "scrolled": true
   },
   "outputs": [
    {
     "data": {
      "text/plain": [
       "0    0\n",
       "1    0\n",
       "2    0\n",
       "3    0\n",
       "4    0\n",
       "Name: Churn, dtype: int64"
      ]
     },
     "execution_count": 8,
     "metadata": {},
     "output_type": "execute_result"
    }
   ],
   "source": [
    "y_train.head()"
   ]
  },
  {
   "cell_type": "code",
   "execution_count": 9,
   "id": "a63053ca-0a92-40da-89b5-ec0746f04947",
   "metadata": {},
   "outputs": [
    {
     "data": {
      "text/plain": [
       "['Complains', 'Charge  Amount', 'Age Group', 'Tariff Plan', 'Status']"
      ]
     },
     "execution_count": 9,
     "metadata": {},
     "output_type": "execute_result"
    }
   ],
   "source": [
    "categorical_features = [c for c in X_train.columns if X_train[c].nunique() < 12]\n",
    "categorical_features"
   ]
  },
  {
   "cell_type": "code",
   "execution_count": 10,
   "id": "bc14bfa1-0b5d-462a-9079-4f1e9378037c",
   "metadata": {},
   "outputs": [
    {
     "data": {
      "text/plain": [
       "['Call  Failure',\n",
       " 'Subscription  Length',\n",
       " 'Seconds of Use',\n",
       " 'Frequency of use',\n",
       " 'Frequency of SMS',\n",
       " 'Distinct Called Numbers',\n",
       " 'Customer Value']"
      ]
     },
     "execution_count": 10,
     "metadata": {},
     "output_type": "execute_result"
    }
   ],
   "source": [
    "continuous_features = [c for c in X_train.columns if c not in categorical_features]\n",
    "continuous_features"
   ]
  },
  {
   "cell_type": "markdown",
   "id": "2083ed0b-9b65-4bd1-ab92-13161001e729",
   "metadata": {},
   "source": [
    "### 3. Baseline Logistic Regression and Feature Importance"
   ]
  },
  {
   "cell_type": "markdown",
   "id": "c45f6e58-2f4d-49d7-baf0-478f1540bb9f",
   "metadata": {},
   "source": [
    "#### 3.1 Setting Custom Cross-Validation Methods"
   ]
  },
  {
   "cell_type": "code",
   "execution_count": 11,
   "id": "46e69058-1723-4115-af9c-f03f323256e5",
   "metadata": {},
   "outputs": [],
   "source": [
    "metric_list = ['accuracy', 'precision', 'recall', 'f1_score']\n",
    "\n",
    "def matrix_to_metrics(mat):\n",
    "    TP = mat[1, 1]\n",
    "    TN = mat[0, 0]\n",
    "    FP = mat[0, 1]\n",
    "    FN = mat[1, 0]\n",
    "    \n",
    "    acc = (TP + TN) / (TP + TN + FP + FN)\n",
    "    prec = TP / (TP + FP) \n",
    "    rec = TP / (TP + FN)\n",
    "    f1_score = 2 * (prec * rec) / (prec + rec)\n",
    "    \n",
    "    return [acc, prec, rec, f1_score]"
   ]
  },
  {
   "cell_type": "code",
   "execution_count": 12,
   "id": "0ea6337b-39a1-40d4-a99d-0ea907e4b86d",
   "metadata": {},
   "outputs": [],
   "source": [
    "from sklearn.preprocessing import StandardScaler\n",
    "from sklearn.model_selection import KFold\n",
    "import time\n",
    "import datetime\n",
    "from sklearn.metrics import confusion_matrix"
   ]
  },
  {
   "cell_type": "code",
   "execution_count": 13,
   "id": "d27b259a-d4c8-458e-b39f-e2d4f84e211a",
   "metadata": {},
   "outputs": [],
   "source": [
    "def cross_validate(data, model_class, model_params, drops, scaler):\n",
    "    result_dict = {} \n",
    "    \n",
    "    metrics = ['accuracy', 'precision', 'recall', 'f1_score']\n",
    "    for m in metrics:\n",
    "        result_dict[m] = []\n",
    "\n",
    "    X_train, y_train = data\n",
    "    kf = KFold(n_splits=5, shuffle=True, random_state=42)\n",
    "    \n",
    "    # removing correlated columns\n",
    "    X_train = X_train.drop(columns=drops, axis=1)\n",
    "\n",
    "    start_time = time.time()\n",
    "    \n",
    "    for fold in kf.split(X_train): \n",
    "        trn_idx, val_idx = fold\n",
    "        X_trn, X_val = X_train.iloc[trn_idx], X_train.iloc[val_idx] # analysis set \n",
    "        y_trn, y_val = y_train.iloc[trn_idx], y_train.iloc[val_idx] # assessment set\n",
    "        \n",
    "        # scaling\n",
    "        if scaler is not None:   \n",
    "            # previous parameters not retained\n",
    "            X_trn = scaler.fit_transform(X_trn)  \n",
    "            X_val = scaler.transform(X_val) \n",
    "\n",
    "        # model fitting\n",
    "        model = model_class(**model_params)\n",
    "        model.fit(X_trn, y_trn)\n",
    "        \n",
    "        # model evaluation\n",
    "        y_pred = model.predict(X_val)\n",
    "        conf_mat = confusion_matrix(y_val, y_pred)\n",
    "        fold_result = matrix_to_metrics(conf_mat)\n",
    "        for i, val in enumerate(fold_result):\n",
    "            result_dict[metrics[i]].append(round(fold_result[i], 4))\n",
    "            \n",
    "    end_time = time.time() \n",
    "    elapsed_time = end_time - start_time\n",
    "    readable_time = f\"{elapsed_time:.3f} seconds\"\n",
    "    print(readable_time)\n",
    "\n",
    "    for key in result_dict:\n",
    "        result_dict[key].append({'average': round(sum(result_dict[key]) / len(result_dict[key]), 3)})\n",
    "    \n",
    "    return result_dict"
   ]
  },
  {
   "cell_type": "code",
   "execution_count": 14,
   "id": "a0a56572-e485-4840-8927-6c201a6b154c",
   "metadata": {},
   "outputs": [],
   "source": [
    "def get_summary(result_dict):\n",
    "    cols = []\n",
    "    avgs = []\n",
    "    for key in result_dict:\n",
    "        cols.append(key)\n",
    "        avgs.append(result_dict[key][-1]['average'])\n",
    "    return pd.DataFrame({'Metric': cols, 'Average': avgs}) "
   ]
  },
  {
   "cell_type": "code",
   "execution_count": 15,
   "id": "23454f9a-aa35-46dc-87c7-551e3f5849af",
   "metadata": {},
   "outputs": [],
   "source": [
    "def compare_models(df_dict): \n",
    "    n = len(df_dict)\n",
    "    for idx, item in enumerate(df_dict.items()):\n",
    "        model_name, result = item\n",
    "        if idx == 0:\n",
    "            merged_df = result.rename(columns={'Average': model_name})\n",
    "        else:\n",
    "            merged_df = pd.merge(merged_df, result.rename(columns={'Average': model_name}), on='Metric')\n",
    "\n",
    "    merged_df = merged_df.set_index('Metric')\n",
    "    merged_df['best_model'] = merged_df.idxmax(axis=1)\n",
    "    return merged_df"
   ]
  },
  {
   "cell_type": "code",
   "execution_count": 16,
   "id": "9a0e6b4e-5c69-455f-8d41-c31184cdd60e",
   "metadata": {},
   "outputs": [],
   "source": [
    "from sklearn.linear_model import LogisticRegression"
   ]
  },
  {
   "cell_type": "code",
   "execution_count": 17,
   "id": "edf006c9-f3b4-4909-a3b8-7b0eee75c557",
   "metadata": {},
   "outputs": [],
   "source": [
    "def run_lr(model_dict):\n",
    "    result_dict = {}\n",
    "    for name in model_dict:\n",
    "        print(name, '='* (20-len(name)))\n",
    "        data = model_dict[name]['data']\n",
    "        model_class = model_dict[name]['class']\n",
    "        model_params= model_dict[name]['param']\n",
    "        drops = model_dict[name]['drop']\n",
    "        scaler = model_dict[name]['scaler']\n",
    "        single_result = cross_validate(data, model_class, model_params, drops, scaler)\n",
    "        result_dict[name] = get_summary(single_result)   \n",
    "    return result_dict"
   ]
  },
  {
   "cell_type": "code",
   "execution_count": 18,
   "id": "3f521017-007f-4f84-b84b-c9c6a15a1605",
   "metadata": {},
   "outputs": [],
   "source": [
    "from sklearn.compose import ColumnTransformer\n",
    "\n",
    "def customize_scaler(to_scale, to_skip):\n",
    "    scaler = ColumnTransformer(\n",
    "                transformers=[('process', StandardScaler(), to_scale), \n",
    "                    ('skip', 'passthrough', to_skip)])\n",
    "    return scaler"
   ]
  },
  {
   "cell_type": "markdown",
   "id": "1826bcdb-3e25-4463-acb2-7f4d5da8370b",
   "metadata": {},
   "source": [
    "#### 3.2 Preliminary Results"
   ]
  },
  {
   "cell_type": "code",
   "execution_count": 19,
   "id": "3eceae85-24fe-4f26-a412-1dc240f1d346",
   "metadata": {},
   "outputs": [
    {
     "data": {
      "text/plain": [
       "['Call  Failure',\n",
       " 'Subscription  Length',\n",
       " 'Charge  Amount',\n",
       " 'Seconds of Use',\n",
       " 'Frequency of use',\n",
       " 'Frequency of SMS',\n",
       " 'Distinct Called Numbers',\n",
       " 'Age Group',\n",
       " 'Customer Value']"
      ]
     },
     "execution_count": 19,
     "metadata": {},
     "output_type": "execute_result"
    }
   ],
   "source": [
    "skips = ['Complains', 'Tariff Plan', 'Status']\n",
    "uses = [c for c in X_train.columns if c not in skips]\n",
    "uses"
   ]
  },
  {
   "cell_type": "code",
   "execution_count": 20,
   "id": "c3141aaa-6a27-4f18-9e75-a0c11a5809f0",
   "metadata": {},
   "outputs": [
    {
     "data": {
      "text/html": [
       "<style>#sk-container-id-1 {color: black;background-color: white;}#sk-container-id-1 pre{padding: 0;}#sk-container-id-1 div.sk-toggleable {background-color: white;}#sk-container-id-1 label.sk-toggleable__label {cursor: pointer;display: block;width: 100%;margin-bottom: 0;padding: 0.3em;box-sizing: border-box;text-align: center;}#sk-container-id-1 label.sk-toggleable__label-arrow:before {content: \"▸\";float: left;margin-right: 0.25em;color: #696969;}#sk-container-id-1 label.sk-toggleable__label-arrow:hover:before {color: black;}#sk-container-id-1 div.sk-estimator:hover label.sk-toggleable__label-arrow:before {color: black;}#sk-container-id-1 div.sk-toggleable__content {max-height: 0;max-width: 0;overflow: hidden;text-align: left;background-color: #f0f8ff;}#sk-container-id-1 div.sk-toggleable__content pre {margin: 0.2em;color: black;border-radius: 0.25em;background-color: #f0f8ff;}#sk-container-id-1 input.sk-toggleable__control:checked~div.sk-toggleable__content {max-height: 200px;max-width: 100%;overflow: auto;}#sk-container-id-1 input.sk-toggleable__control:checked~label.sk-toggleable__label-arrow:before {content: \"▾\";}#sk-container-id-1 div.sk-estimator input.sk-toggleable__control:checked~label.sk-toggleable__label {background-color: #d4ebff;}#sk-container-id-1 div.sk-label input.sk-toggleable__control:checked~label.sk-toggleable__label {background-color: #d4ebff;}#sk-container-id-1 input.sk-hidden--visually {border: 0;clip: rect(1px 1px 1px 1px);clip: rect(1px, 1px, 1px, 1px);height: 1px;margin: -1px;overflow: hidden;padding: 0;position: absolute;width: 1px;}#sk-container-id-1 div.sk-estimator {font-family: monospace;background-color: #f0f8ff;border: 1px dotted black;border-radius: 0.25em;box-sizing: border-box;margin-bottom: 0.5em;}#sk-container-id-1 div.sk-estimator:hover {background-color: #d4ebff;}#sk-container-id-1 div.sk-parallel-item::after {content: \"\";width: 100%;border-bottom: 1px solid gray;flex-grow: 1;}#sk-container-id-1 div.sk-label:hover label.sk-toggleable__label {background-color: #d4ebff;}#sk-container-id-1 div.sk-serial::before {content: \"\";position: absolute;border-left: 1px solid gray;box-sizing: border-box;top: 0;bottom: 0;left: 50%;z-index: 0;}#sk-container-id-1 div.sk-serial {display: flex;flex-direction: column;align-items: center;background-color: white;padding-right: 0.2em;padding-left: 0.2em;position: relative;}#sk-container-id-1 div.sk-item {position: relative;z-index: 1;}#sk-container-id-1 div.sk-parallel {display: flex;align-items: stretch;justify-content: center;background-color: white;position: relative;}#sk-container-id-1 div.sk-item::before, #sk-container-id-1 div.sk-parallel-item::before {content: \"\";position: absolute;border-left: 1px solid gray;box-sizing: border-box;top: 0;bottom: 0;left: 50%;z-index: -1;}#sk-container-id-1 div.sk-parallel-item {display: flex;flex-direction: column;z-index: 1;position: relative;background-color: white;}#sk-container-id-1 div.sk-parallel-item:first-child::after {align-self: flex-end;width: 50%;}#sk-container-id-1 div.sk-parallel-item:last-child::after {align-self: flex-start;width: 50%;}#sk-container-id-1 div.sk-parallel-item:only-child::after {width: 0;}#sk-container-id-1 div.sk-dashed-wrapped {border: 1px dashed gray;margin: 0 0.4em 0.5em 0.4em;box-sizing: border-box;padding-bottom: 0.4em;background-color: white;}#sk-container-id-1 div.sk-label label {font-family: monospace;font-weight: bold;display: inline-block;line-height: 1.2em;}#sk-container-id-1 div.sk-label-container {text-align: center;}#sk-container-id-1 div.sk-container {/* jupyter's `normalize.less` sets `[hidden] { display: none; }` but bootstrap.min.css set `[hidden] { display: none !important; }` so we also need the `!important` here to be able to override the default hidden behavior on the sphinx rendered scikit-learn.org. See: https://github.com/scikit-learn/scikit-learn/issues/21755 */display: inline-block !important;position: relative;}#sk-container-id-1 div.sk-text-repr-fallback {display: none;}</style><div id=\"sk-container-id-1\" class=\"sk-top-container\"><div class=\"sk-text-repr-fallback\"><pre>ColumnTransformer(transformers=[(&#x27;process&#x27;, StandardScaler(),\n",
       "                                 [&#x27;Call  Failure&#x27;, &#x27;Subscription  Length&#x27;,\n",
       "                                  &#x27;Charge  Amount&#x27;, &#x27;Seconds of Use&#x27;,\n",
       "                                  &#x27;Frequency of use&#x27;, &#x27;Frequency of SMS&#x27;,\n",
       "                                  &#x27;Distinct Called Numbers&#x27;, &#x27;Age Group&#x27;,\n",
       "                                  &#x27;Customer Value&#x27;]),\n",
       "                                (&#x27;skip&#x27;, &#x27;passthrough&#x27;,\n",
       "                                 [&#x27;Complains&#x27;, &#x27;Tariff Plan&#x27;, &#x27;Status&#x27;])])</pre><b>In a Jupyter environment, please rerun this cell to show the HTML representation or trust the notebook. <br />On GitHub, the HTML representation is unable to render, please try loading this page with nbviewer.org.</b></div><div class=\"sk-container\" hidden><div class=\"sk-item sk-dashed-wrapped\"><div class=\"sk-label-container\"><div class=\"sk-label sk-toggleable\"><input class=\"sk-toggleable__control sk-hidden--visually\" id=\"sk-estimator-id-1\" type=\"checkbox\" ><label for=\"sk-estimator-id-1\" class=\"sk-toggleable__label sk-toggleable__label-arrow\">ColumnTransformer</label><div class=\"sk-toggleable__content\"><pre>ColumnTransformer(transformers=[(&#x27;process&#x27;, StandardScaler(),\n",
       "                                 [&#x27;Call  Failure&#x27;, &#x27;Subscription  Length&#x27;,\n",
       "                                  &#x27;Charge  Amount&#x27;, &#x27;Seconds of Use&#x27;,\n",
       "                                  &#x27;Frequency of use&#x27;, &#x27;Frequency of SMS&#x27;,\n",
       "                                  &#x27;Distinct Called Numbers&#x27;, &#x27;Age Group&#x27;,\n",
       "                                  &#x27;Customer Value&#x27;]),\n",
       "                                (&#x27;skip&#x27;, &#x27;passthrough&#x27;,\n",
       "                                 [&#x27;Complains&#x27;, &#x27;Tariff Plan&#x27;, &#x27;Status&#x27;])])</pre></div></div></div><div class=\"sk-parallel\"><div class=\"sk-parallel-item\"><div class=\"sk-item\"><div class=\"sk-label-container\"><div class=\"sk-label sk-toggleable\"><input class=\"sk-toggleable__control sk-hidden--visually\" id=\"sk-estimator-id-2\" type=\"checkbox\" ><label for=\"sk-estimator-id-2\" class=\"sk-toggleable__label sk-toggleable__label-arrow\">process</label><div class=\"sk-toggleable__content\"><pre>[&#x27;Call  Failure&#x27;, &#x27;Subscription  Length&#x27;, &#x27;Charge  Amount&#x27;, &#x27;Seconds of Use&#x27;, &#x27;Frequency of use&#x27;, &#x27;Frequency of SMS&#x27;, &#x27;Distinct Called Numbers&#x27;, &#x27;Age Group&#x27;, &#x27;Customer Value&#x27;]</pre></div></div></div><div class=\"sk-serial\"><div class=\"sk-item\"><div class=\"sk-estimator sk-toggleable\"><input class=\"sk-toggleable__control sk-hidden--visually\" id=\"sk-estimator-id-3\" type=\"checkbox\" ><label for=\"sk-estimator-id-3\" class=\"sk-toggleable__label sk-toggleable__label-arrow\">StandardScaler</label><div class=\"sk-toggleable__content\"><pre>StandardScaler()</pre></div></div></div></div></div></div><div class=\"sk-parallel-item\"><div class=\"sk-item\"><div class=\"sk-label-container\"><div class=\"sk-label sk-toggleable\"><input class=\"sk-toggleable__control sk-hidden--visually\" id=\"sk-estimator-id-4\" type=\"checkbox\" ><label for=\"sk-estimator-id-4\" class=\"sk-toggleable__label sk-toggleable__label-arrow\">skip</label><div class=\"sk-toggleable__content\"><pre>[&#x27;Complains&#x27;, &#x27;Tariff Plan&#x27;, &#x27;Status&#x27;]</pre></div></div></div><div class=\"sk-serial\"><div class=\"sk-item\"><div class=\"sk-estimator sk-toggleable\"><input class=\"sk-toggleable__control sk-hidden--visually\" id=\"sk-estimator-id-5\" type=\"checkbox\" ><label for=\"sk-estimator-id-5\" class=\"sk-toggleable__label sk-toggleable__label-arrow\">passthrough</label><div class=\"sk-toggleable__content\"><pre>passthrough</pre></div></div></div></div></div></div></div></div></div></div>"
      ],
      "text/plain": [
       "ColumnTransformer(transformers=[('process', StandardScaler(),\n",
       "                                 ['Call  Failure', 'Subscription  Length',\n",
       "                                  'Charge  Amount', 'Seconds of Use',\n",
       "                                  'Frequency of use', 'Frequency of SMS',\n",
       "                                  'Distinct Called Numbers', 'Age Group',\n",
       "                                  'Customer Value']),\n",
       "                                ('skip', 'passthrough',\n",
       "                                 ['Complains', 'Tariff Plan', 'Status'])])"
      ]
     },
     "execution_count": 20,
     "metadata": {},
     "output_type": "execute_result"
    }
   ],
   "source": [
    "base_scaler = customize_scaler(uses, skips)\n",
    "base_scaler"
   ]
  },
  {
   "cell_type": "code",
   "execution_count": 21,
   "id": "eefdf74c-cb21-4a07-90f1-a2e9e0a9b967",
   "metadata": {},
   "outputs": [],
   "source": [
    "vanilla_dict = {}\n",
    "vanilla_dict['data'] = [X_train, y_train]\n",
    "vanilla_dict['class'] = LogisticRegression\n",
    "vanilla_dict['param'] = {}\n",
    "vanilla_dict['drop'] = []\n",
    "vanilla_dict['scaler'] = base_scaler"
   ]
  },
  {
   "cell_type": "code",
   "execution_count": 22,
   "id": "d7f1d61d-7de4-4e17-9dd2-ef33fbf44f2d",
   "metadata": {},
   "outputs": [
    {
     "name": "stdout",
     "output_type": "stream",
     "text": [
      "vanilla =============\n",
      "0.041 seconds\n"
     ]
    }
   ],
   "source": [
    "wrapper = {'vanilla': vanilla_dict}\n",
    "vanilla_lr = run_lr(wrapper)"
   ]
  },
  {
   "cell_type": "code",
   "execution_count": 23,
   "id": "554cb072-d5eb-47a7-9f6b-14627fa6f84e",
   "metadata": {},
   "outputs": [
    {
     "data": {
      "text/html": [
       "<div>\n",
       "<style scoped>\n",
       "    .dataframe tbody tr th:only-of-type {\n",
       "        vertical-align: middle;\n",
       "    }\n",
       "\n",
       "    .dataframe tbody tr th {\n",
       "        vertical-align: top;\n",
       "    }\n",
       "\n",
       "    .dataframe thead th {\n",
       "        text-align: right;\n",
       "    }\n",
       "</style>\n",
       "<table border=\"1\" class=\"dataframe\">\n",
       "  <thead>\n",
       "    <tr style=\"text-align: right;\">\n",
       "      <th></th>\n",
       "      <th>Metric</th>\n",
       "      <th>Average</th>\n",
       "    </tr>\n",
       "  </thead>\n",
       "  <tbody>\n",
       "    <tr>\n",
       "      <th>0</th>\n",
       "      <td>accuracy</td>\n",
       "      <td>0.891</td>\n",
       "    </tr>\n",
       "    <tr>\n",
       "      <th>1</th>\n",
       "      <td>precision</td>\n",
       "      <td>0.756</td>\n",
       "    </tr>\n",
       "    <tr>\n",
       "      <th>2</th>\n",
       "      <td>recall</td>\n",
       "      <td>0.455</td>\n",
       "    </tr>\n",
       "    <tr>\n",
       "      <th>3</th>\n",
       "      <td>f1_score</td>\n",
       "      <td>0.562</td>\n",
       "    </tr>\n",
       "  </tbody>\n",
       "</table>\n",
       "</div>"
      ],
      "text/plain": [
       "      Metric  Average\n",
       "0   accuracy    0.891\n",
       "1  precision    0.756\n",
       "2     recall    0.455\n",
       "3   f1_score    0.562"
      ]
     },
     "execution_count": 23,
     "metadata": {},
     "output_type": "execute_result"
    }
   ],
   "source": [
    "vanilla_lr['vanilla']"
   ]
  },
  {
   "cell_type": "markdown",
   "id": "b5467ef6-0477-48e2-8e6d-1dd4b74d9814",
   "metadata": {},
   "source": [
    "#### 3.3 Feature Importance"
   ]
  },
  {
   "cell_type": "code",
   "execution_count": 24,
   "id": "9df1a636-b5a1-4e50-ba6f-d410c51e8339",
   "metadata": {},
   "outputs": [],
   "source": [
    "import statsmodels.api as sm"
   ]
  },
  {
   "cell_type": "code",
   "execution_count": 25,
   "id": "bd810dbd-dc70-4586-b8c0-57e1661869fe",
   "metadata": {},
   "outputs": [],
   "source": [
    "def show_coef(data=[X_train, y_train], scaler=base_scaler):\n",
    "    \n",
    "    X_train, y_train = data\n",
    "    kf = KFold(n_splits=5, shuffle=True, random_state=42)\n",
    "    lr_coef, stat_coef = [], []\n",
    "    \n",
    "    for fold in kf.split(X_train): \n",
    "        trn_idx, val_idx = fold\n",
    "        X_trn, X_val = X_train.iloc[trn_idx], X_train.iloc[val_idx] # analysis set \n",
    "        y_trn, y_val = y_train.iloc[trn_idx], y_train.iloc[val_idx] # assessment set\n",
    "        \n",
    "        X_trn = scaler.fit_transform(X_trn)  \n",
    "        X_val = scaler.transform(X_val) \n",
    "        \n",
    "        # sklearn\n",
    "        lr = LogisticRegression(penalty='none')\n",
    "        lr.fit(X_trn, y_trn)\n",
    "        lr_coef.append(abs(lr.coef_[0]))\n",
    "\n",
    "        # stat\n",
    "        X_trn_with_const = sm.add_constant(X_trn)  # 절편 추가\n",
    "        stat_lr = sm.Logit(y_trn, X_trn_with_const).fit(disp=0)      \n",
    "        stat_coef.append(np.abs(stat_lr.params[1:]))\n",
    "\n",
    "    mean_lr_coef = np.mean(np.array(lr_coef), axis=0)\n",
    "    mean_stat_coef = np.mean(np.array(stat_coef), axis=0)\n",
    "    \n",
    "    # 결과 출력\n",
    "    coef_df = pd.DataFrame({\n",
    "        'Feature': X_train.columns,\n",
    "        'Sklearn': mean_lr_coef,\n",
    "        'Stat': mean_stat_coef\n",
    "    })\n",
    "    \n",
    "    return coef_df"
   ]
  },
  {
   "cell_type": "code",
   "execution_count": 26,
   "id": "f5a7b611-733b-4b7a-a99f-1fb081d349e9",
   "metadata": {},
   "outputs": [],
   "source": [
    "coef_df = show_coef()"
   ]
  },
  {
   "cell_type": "code",
   "execution_count": 27,
   "id": "5f82dd6e-ff86-4685-add6-5bbdb3ea258f",
   "metadata": {},
   "outputs": [
    {
     "data": {
      "text/html": [
       "<div>\n",
       "<style scoped>\n",
       "    .dataframe tbody tr th:only-of-type {\n",
       "        vertical-align: middle;\n",
       "    }\n",
       "\n",
       "    .dataframe tbody tr th {\n",
       "        vertical-align: top;\n",
       "    }\n",
       "\n",
       "    .dataframe thead th {\n",
       "        text-align: right;\n",
       "    }\n",
       "</style>\n",
       "<table border=\"1\" class=\"dataframe\">\n",
       "  <thead>\n",
       "    <tr style=\"text-align: right;\">\n",
       "      <th></th>\n",
       "      <th>Feature</th>\n",
       "      <th>Sklearn</th>\n",
       "      <th>Stat</th>\n",
       "    </tr>\n",
       "  </thead>\n",
       "  <tbody>\n",
       "    <tr>\n",
       "      <th>5</th>\n",
       "      <td>Frequency of use</td>\n",
       "      <td>5.828212</td>\n",
       "      <td>5.827944</td>\n",
       "    </tr>\n",
       "    <tr>\n",
       "      <th>8</th>\n",
       "      <td>Age Group</td>\n",
       "      <td>4.692406</td>\n",
       "      <td>4.692001</td>\n",
       "    </tr>\n",
       "    <tr>\n",
       "      <th>9</th>\n",
       "      <td>Tariff Plan</td>\n",
       "      <td>3.860397</td>\n",
       "      <td>3.860348</td>\n",
       "    </tr>\n",
       "    <tr>\n",
       "      <th>4</th>\n",
       "      <td>Seconds of Use</td>\n",
       "      <td>3.487916</td>\n",
       "      <td>3.487936</td>\n",
       "    </tr>\n",
       "    <tr>\n",
       "      <th>11</th>\n",
       "      <td>Customer Value</td>\n",
       "      <td>1.428817</td>\n",
       "      <td>1.428827</td>\n",
       "    </tr>\n",
       "    <tr>\n",
       "      <th>0</th>\n",
       "      <td>Call  Failure</td>\n",
       "      <td>0.904517</td>\n",
       "      <td>0.904521</td>\n",
       "    </tr>\n",
       "    <tr>\n",
       "      <th>2</th>\n",
       "      <td>Subscription  Length</td>\n",
       "      <td>0.589850</td>\n",
       "      <td>0.589880</td>\n",
       "    </tr>\n",
       "    <tr>\n",
       "      <th>10</th>\n",
       "      <td>Status</td>\n",
       "      <td>0.507591</td>\n",
       "      <td>0.507764</td>\n",
       "    </tr>\n",
       "    <tr>\n",
       "      <th>3</th>\n",
       "      <td>Charge  Amount</td>\n",
       "      <td>0.413948</td>\n",
       "      <td>0.414167</td>\n",
       "    </tr>\n",
       "    <tr>\n",
       "      <th>1</th>\n",
       "      <td>Complains</td>\n",
       "      <td>0.378449</td>\n",
       "      <td>0.378465</td>\n",
       "    </tr>\n",
       "    <tr>\n",
       "      <th>6</th>\n",
       "      <td>Frequency of SMS</td>\n",
       "      <td>0.124304</td>\n",
       "      <td>0.124303</td>\n",
       "    </tr>\n",
       "    <tr>\n",
       "      <th>7</th>\n",
       "      <td>Distinct Called Numbers</td>\n",
       "      <td>0.073622</td>\n",
       "      <td>0.073623</td>\n",
       "    </tr>\n",
       "  </tbody>\n",
       "</table>\n",
       "</div>"
      ],
      "text/plain": [
       "                    Feature   Sklearn      Stat\n",
       "5          Frequency of use  5.828212  5.827944\n",
       "8                 Age Group  4.692406  4.692001\n",
       "9               Tariff Plan  3.860397  3.860348\n",
       "4            Seconds of Use  3.487916  3.487936\n",
       "11           Customer Value  1.428817  1.428827\n",
       "0             Call  Failure  0.904517  0.904521\n",
       "2      Subscription  Length  0.589850  0.589880\n",
       "10                   Status  0.507591  0.507764\n",
       "3            Charge  Amount  0.413948  0.414167\n",
       "1                 Complains  0.378449  0.378465\n",
       "6          Frequency of SMS  0.124304  0.124303\n",
       "7   Distinct Called Numbers  0.073622  0.073623"
      ]
     },
     "execution_count": 27,
     "metadata": {},
     "output_type": "execute_result"
    }
   ],
   "source": [
    "coef_df.sort_values(by='Sklearn', ascending=False)"
   ]
  },
  {
   "cell_type": "code",
   "execution_count": 28,
   "id": "d8980c3c-b892-4d20-b25e-0ed6dde8cc56",
   "metadata": {},
   "outputs": [
    {
     "data": {
      "text/plain": [
       "['Status',\n",
       " 'Charge  Amount',\n",
       " 'Complains',\n",
       " 'Frequency of SMS',\n",
       " 'Distinct Called Numbers']"
      ]
     },
     "execution_count": 28,
     "metadata": {},
     "output_type": "execute_result"
    }
   ],
   "source": [
    "drop_candidates = coef_df.sort_values(by='Sklearn', ascending=False)['Feature'][-5:].values.tolist()\n",
    "drop_candidates"
   ]
  },
  {
   "cell_type": "markdown",
   "id": "8ed278e0-56bc-477c-aa34-963c7b9f14f0",
   "metadata": {},
   "source": [
    "#### 3.4 Feature Selection Based on CV Performance"
   ]
  },
  {
   "cell_type": "code",
   "execution_count": 29,
   "id": "a63fcade-de04-4dea-9b8a-dbced3a67e9f",
   "metadata": {},
   "outputs": [],
   "source": [
    "drop_dicts = {}\n",
    "\n",
    "for i in range(1, len(drop_candidates)+1):\n",
    "    cur_drop = f'drop_{i}cols'\n",
    "    drop_dicts[cur_drop] = {}\n",
    "    cur_dict = drop_dicts[cur_drop]\n",
    "    cur_dict['data'] = [X_train, y_train]\n",
    "    cur_dict['class'] = LogisticRegression\n",
    "    cur_dict['param'] = {'penalty':'none'}\n",
    "    cur_dict['drop'] = drop_candidates[-i:]\n",
    "    binaries = ['Complains', 'Tariff Plan', 'Status']\n",
    "    skips = [c for c in binaries if c not in cur_dict['drop']]\n",
    "    uses = [c for c in X_train.columns if c not in skips and c not in cur_dict['drop']]\n",
    "    cur_dict['scaler'] = customize_scaler(uses, skips)"
   ]
  },
  {
   "cell_type": "code",
   "execution_count": 30,
   "id": "14eb7066-a171-4aac-b35e-78f9f57e5ef2",
   "metadata": {},
   "outputs": [
    {
     "name": "stdout",
     "output_type": "stream",
     "text": [
      "drop_1cols ==========\n",
      "0.048 seconds\n",
      "drop_2cols ==========\n",
      "0.033 seconds\n",
      "drop_3cols ==========\n",
      "0.029 seconds\n",
      "drop_4cols ==========\n",
      "0.028 seconds\n",
      "drop_5cols ==========\n",
      "0.027 seconds\n"
     ]
    }
   ],
   "source": [
    "drop_result = run_lr(drop_dicts)"
   ]
  },
  {
   "cell_type": "code",
   "execution_count": 31,
   "id": "357959a6-dced-4dd1-a25b-aea903568036",
   "metadata": {},
   "outputs": [
    {
     "data": {
      "text/html": [
       "<div>\n",
       "<style scoped>\n",
       "    .dataframe tbody tr th:only-of-type {\n",
       "        vertical-align: middle;\n",
       "    }\n",
       "\n",
       "    .dataframe tbody tr th {\n",
       "        vertical-align: top;\n",
       "    }\n",
       "\n",
       "    .dataframe thead th {\n",
       "        text-align: right;\n",
       "    }\n",
       "</style>\n",
       "<table border=\"1\" class=\"dataframe\">\n",
       "  <thead>\n",
       "    <tr style=\"text-align: right;\">\n",
       "      <th></th>\n",
       "      <th>drop_1cols</th>\n",
       "      <th>drop_2cols</th>\n",
       "      <th>drop_3cols</th>\n",
       "      <th>drop_4cols</th>\n",
       "      <th>drop_5cols</th>\n",
       "      <th>best_model</th>\n",
       "    </tr>\n",
       "    <tr>\n",
       "      <th>Metric</th>\n",
       "      <th></th>\n",
       "      <th></th>\n",
       "      <th></th>\n",
       "      <th></th>\n",
       "      <th></th>\n",
       "      <th></th>\n",
       "    </tr>\n",
       "  </thead>\n",
       "  <tbody>\n",
       "    <tr>\n",
       "      <th>accuracy</th>\n",
       "      <td>0.888</td>\n",
       "      <td>0.890</td>\n",
       "      <td>0.852</td>\n",
       "      <td>0.839</td>\n",
       "      <td>0.844</td>\n",
       "      <td>drop_2cols</td>\n",
       "    </tr>\n",
       "    <tr>\n",
       "      <th>precision</th>\n",
       "      <td>0.723</td>\n",
       "      <td>0.755</td>\n",
       "      <td>0.551</td>\n",
       "      <td>0.484</td>\n",
       "      <td>0.518</td>\n",
       "      <td>drop_2cols</td>\n",
       "    </tr>\n",
       "    <tr>\n",
       "      <th>recall</th>\n",
       "      <td>0.465</td>\n",
       "      <td>0.449</td>\n",
       "      <td>0.368</td>\n",
       "      <td>0.304</td>\n",
       "      <td>0.184</td>\n",
       "      <td>drop_1cols</td>\n",
       "    </tr>\n",
       "    <tr>\n",
       "      <th>f1_score</th>\n",
       "      <td>0.561</td>\n",
       "      <td>0.556</td>\n",
       "      <td>0.438</td>\n",
       "      <td>0.369</td>\n",
       "      <td>0.265</td>\n",
       "      <td>drop_1cols</td>\n",
       "    </tr>\n",
       "  </tbody>\n",
       "</table>\n",
       "</div>"
      ],
      "text/plain": [
       "           drop_1cols  drop_2cols  drop_3cols  drop_4cols  drop_5cols  \\\n",
       "Metric                                                                  \n",
       "accuracy        0.888       0.890       0.852       0.839       0.844   \n",
       "precision       0.723       0.755       0.551       0.484       0.518   \n",
       "recall          0.465       0.449       0.368       0.304       0.184   \n",
       "f1_score        0.561       0.556       0.438       0.369       0.265   \n",
       "\n",
       "           best_model  \n",
       "Metric                 \n",
       "accuracy   drop_2cols  \n",
       "precision  drop_2cols  \n",
       "recall     drop_1cols  \n",
       "f1_score   drop_1cols  "
      ]
     },
     "execution_count": 31,
     "metadata": {},
     "output_type": "execute_result"
    }
   ],
   "source": [
    "compare_models(drop_result)"
   ]
  },
  {
   "cell_type": "code",
   "execution_count": 32,
   "id": "0a668702-53e9-4d2f-b284-6e5a8726b4c0",
   "metadata": {},
   "outputs": [],
   "source": [
    "drop_l2_dicts = {}\n",
    "\n",
    "for i in range(0, 3):\n",
    "    cur_drop = f'drop_{i}cols'\n",
    "    drop_l2_dicts[cur_drop] = {}\n",
    "    cur_dict = drop_l2_dicts[cur_drop]\n",
    "    cur_dict['data'] = [X_train, y_train]\n",
    "    cur_dict['class'] = LogisticRegression\n",
    "    cur_dict['param'] = {}\n",
    "    if i != 0:\n",
    "        cur_dict['drop'] = drop_candidates[-i:]\n",
    "    else:\n",
    "        cur_dict['drop'] = []\n",
    "    binaries = ['Complains', 'Tariff Plan', 'Status']\n",
    "    skips = [c for c in binaries if c not in cur_dict['drop']]\n",
    "    uses = [c for c in X_train.columns if c not in skips and c not in cur_dict['drop']]\n",
    "    cur_dict['scaler'] = customize_scaler(uses, skips)"
   ]
  },
  {
   "cell_type": "code",
   "execution_count": 33,
   "id": "338a975a-771f-40a5-969a-9dc282017b0d",
   "metadata": {},
   "outputs": [
    {
     "name": "stdout",
     "output_type": "stream",
     "text": [
      "drop_0cols ==========\n",
      "0.040 seconds\n",
      "drop_1cols ==========\n",
      "0.035 seconds\n",
      "drop_2cols ==========\n",
      "0.029 seconds\n"
     ]
    }
   ],
   "source": [
    "drop_l2_result = run_lr(drop_l2_dicts)"
   ]
  },
  {
   "cell_type": "code",
   "execution_count": 34,
   "id": "612c2b7e-f444-49c5-883d-5ee90f716ffb",
   "metadata": {},
   "outputs": [
    {
     "data": {
      "text/html": [
       "<div>\n",
       "<style scoped>\n",
       "    .dataframe tbody tr th:only-of-type {\n",
       "        vertical-align: middle;\n",
       "    }\n",
       "\n",
       "    .dataframe tbody tr th {\n",
       "        vertical-align: top;\n",
       "    }\n",
       "\n",
       "    .dataframe thead th {\n",
       "        text-align: right;\n",
       "    }\n",
       "</style>\n",
       "<table border=\"1\" class=\"dataframe\">\n",
       "  <thead>\n",
       "    <tr style=\"text-align: right;\">\n",
       "      <th></th>\n",
       "      <th>drop_0cols</th>\n",
       "      <th>drop_1cols</th>\n",
       "      <th>drop_2cols</th>\n",
       "      <th>best_model</th>\n",
       "    </tr>\n",
       "    <tr>\n",
       "      <th>Metric</th>\n",
       "      <th></th>\n",
       "      <th></th>\n",
       "      <th></th>\n",
       "      <th></th>\n",
       "    </tr>\n",
       "  </thead>\n",
       "  <tbody>\n",
       "    <tr>\n",
       "      <th>accuracy</th>\n",
       "      <td>0.891</td>\n",
       "      <td>0.889</td>\n",
       "      <td>0.889</td>\n",
       "      <td>drop_0cols</td>\n",
       "    </tr>\n",
       "    <tr>\n",
       "      <th>precision</th>\n",
       "      <td>0.756</td>\n",
       "      <td>0.755</td>\n",
       "      <td>0.756</td>\n",
       "      <td>drop_0cols</td>\n",
       "    </tr>\n",
       "    <tr>\n",
       "      <th>recall</th>\n",
       "      <td>0.455</td>\n",
       "      <td>0.443</td>\n",
       "      <td>0.443</td>\n",
       "      <td>drop_0cols</td>\n",
       "    </tr>\n",
       "    <tr>\n",
       "      <th>f1_score</th>\n",
       "      <td>0.562</td>\n",
       "      <td>0.550</td>\n",
       "      <td>0.551</td>\n",
       "      <td>drop_0cols</td>\n",
       "    </tr>\n",
       "  </tbody>\n",
       "</table>\n",
       "</div>"
      ],
      "text/plain": [
       "           drop_0cols  drop_1cols  drop_2cols  best_model\n",
       "Metric                                                   \n",
       "accuracy        0.891       0.889       0.889  drop_0cols\n",
       "precision       0.756       0.755       0.756  drop_0cols\n",
       "recall          0.455       0.443       0.443  drop_0cols\n",
       "f1_score        0.562       0.550       0.551  drop_0cols"
      ]
     },
     "execution_count": 34,
     "metadata": {},
     "output_type": "execute_result"
    }
   ],
   "source": [
    "compare_models(drop_l2_result)"
   ]
  },
  {
   "cell_type": "markdown",
   "id": "41a3019a-3878-4ba3-8ae0-f8852b2d79c3",
   "metadata": {},
   "source": [
    "### 4. PCA Feature Generation\n",
    "\t• EDA identified variables with linear relationships.\n",
    "\t• Applied PCA to these variables and combined the resulting feature with the original dataset."
   ]
  },
  {
   "cell_type": "code",
   "execution_count": 35,
   "id": "35aad4ba-9c74-4264-9370-2f0a6eb55fbd",
   "metadata": {},
   "outputs": [],
   "source": [
    "from sklearn.decomposition import PCA"
   ]
  },
  {
   "cell_type": "code",
   "execution_count": 36,
   "id": "c9eff91e-b716-4243-abd0-3d8a9bb1a741",
   "metadata": {},
   "outputs": [],
   "source": [
    "def apply_PCA(data, num_comp):\n",
    "    scaler = StandardScaler()\n",
    "    scaled_data = scaler.fit_transform(data)\n",
    "    pca = PCA(n_components=num_comp)\n",
    "    pcs = pca.fit_transform(scaled_data)\n",
    "    cols = [f'PC{i}' for i in range(1, num_comp+1)]\n",
    "    pca_df = pd.DataFrame(data=pcs, columns=cols)\n",
    "    return pca_df"
   ]
  },
  {
   "cell_type": "code",
   "execution_count": 37,
   "id": "bfbd9e7d-7eba-4006-8ba5-05f101d9562d",
   "metadata": {},
   "outputs": [
    {
     "data": {
      "text/html": [
       "<div>\n",
       "<style scoped>\n",
       "    .dataframe tbody tr th:only-of-type {\n",
       "        vertical-align: middle;\n",
       "    }\n",
       "\n",
       "    .dataframe tbody tr th {\n",
       "        vertical-align: top;\n",
       "    }\n",
       "\n",
       "    .dataframe thead th {\n",
       "        text-align: right;\n",
       "    }\n",
       "</style>\n",
       "<table border=\"1\" class=\"dataframe\">\n",
       "  <thead>\n",
       "    <tr style=\"text-align: right;\">\n",
       "      <th></th>\n",
       "      <th>PC1</th>\n",
       "      <th>PC2</th>\n",
       "      <th>Call  Failure</th>\n",
       "      <th>Complains</th>\n",
       "      <th>Subscription  Length</th>\n",
       "      <th>Charge  Amount</th>\n",
       "      <th>Distinct Called Numbers</th>\n",
       "      <th>Age Group</th>\n",
       "      <th>Tariff Plan</th>\n",
       "      <th>Status</th>\n",
       "    </tr>\n",
       "  </thead>\n",
       "  <tbody>\n",
       "    <tr>\n",
       "      <th>0</th>\n",
       "      <td>1.278962</td>\n",
       "      <td>-0.564671</td>\n",
       "      <td>18</td>\n",
       "      <td>0</td>\n",
       "      <td>22</td>\n",
       "      <td>2</td>\n",
       "      <td>43</td>\n",
       "      <td>2</td>\n",
       "      <td>2</td>\n",
       "      <td>1</td>\n",
       "    </tr>\n",
       "    <tr>\n",
       "      <th>1</th>\n",
       "      <td>-0.739324</td>\n",
       "      <td>-0.433720</td>\n",
       "      <td>5</td>\n",
       "      <td>0</td>\n",
       "      <td>22</td>\n",
       "      <td>0</td>\n",
       "      <td>24</td>\n",
       "      <td>3</td>\n",
       "      <td>1</td>\n",
       "      <td>1</td>\n",
       "    </tr>\n",
       "    <tr>\n",
       "      <th>2</th>\n",
       "      <td>0.166651</td>\n",
       "      <td>1.006538</td>\n",
       "      <td>6</td>\n",
       "      <td>0</td>\n",
       "      <td>35</td>\n",
       "      <td>0</td>\n",
       "      <td>19</td>\n",
       "      <td>2</td>\n",
       "      <td>1</td>\n",
       "      <td>1</td>\n",
       "    </tr>\n",
       "    <tr>\n",
       "      <th>3</th>\n",
       "      <td>-1.758256</td>\n",
       "      <td>0.155644</td>\n",
       "      <td>0</td>\n",
       "      <td>0</td>\n",
       "      <td>22</td>\n",
       "      <td>0</td>\n",
       "      <td>11</td>\n",
       "      <td>2</td>\n",
       "      <td>1</td>\n",
       "      <td>1</td>\n",
       "    </tr>\n",
       "    <tr>\n",
       "      <th>4</th>\n",
       "      <td>1.103067</td>\n",
       "      <td>0.071642</td>\n",
       "      <td>14</td>\n",
       "      <td>0</td>\n",
       "      <td>38</td>\n",
       "      <td>2</td>\n",
       "      <td>37</td>\n",
       "      <td>2</td>\n",
       "      <td>1</td>\n",
       "      <td>1</td>\n",
       "    </tr>\n",
       "  </tbody>\n",
       "</table>\n",
       "</div>"
      ],
      "text/plain": [
       "        PC1       PC2  Call  Failure  Complains  Subscription  Length  \\\n",
       "0  1.278962 -0.564671             18          0                    22   \n",
       "1 -0.739324 -0.433720              5          0                    22   \n",
       "2  0.166651  1.006538              6          0                    35   \n",
       "3 -1.758256  0.155644              0          0                    22   \n",
       "4  1.103067  0.071642             14          0                    38   \n",
       "\n",
       "   Charge  Amount  Distinct Called Numbers  Age Group  Tariff Plan  Status  \n",
       "0               2                       43          2            2       1  \n",
       "1               0                       24          3            1       1  \n",
       "2               0                       19          2            1       1  \n",
       "3               0                       11          2            1       1  \n",
       "4               2                       37          2            1       1  "
      ]
     },
     "execution_count": 37,
     "metadata": {},
     "output_type": "execute_result"
    }
   ],
   "source": [
    "corr_cols = ['Seconds of Use', 'Frequency of use', 'Frequency of SMS', 'Customer Value']\n",
    "pca_cols = apply_PCA(X_train[corr_cols], 2)\n",
    "other_cols = X_train[[col for col in X_train.columns if col not in corr_cols]]\n",
    "\n",
    "PCA_X_train = pd.concat([pca_cols, other_cols], axis=1)\n",
    "PCA_X_train.head()"
   ]
  },
  {
   "cell_type": "code",
   "execution_count": 38,
   "id": "bfc05129-b2d7-4a67-8a79-148977757c84",
   "metadata": {},
   "outputs": [],
   "source": [
    "pca_wrapper = {}\n",
    "pca_wrapper['pca'] = {}\n",
    "cur_dict = pca_wrapper['pca'] \n",
    "cur_dict['data'] = [PCA_X_train, y_train]\n",
    "cur_dict['class'] = LogisticRegression\n",
    "cur_dict['drop'] = []\n",
    "cur_dict['param'] = {}\n",
    "binaries = ['Complains', 'Tariff Plan', 'Status']\n",
    "skips = binaries + pca_cols.columns.tolist()\n",
    "uses = [c for c in PCA_X_train.columns if c not in skips]\n",
    "cur_dict['scaler'] = customize_scaler(uses, skips)"
   ]
  },
  {
   "cell_type": "code",
   "execution_count": 39,
   "id": "879dbb2e-1ca9-4d73-9440-bf84e594782b",
   "metadata": {},
   "outputs": [
    {
     "data": {
      "text/html": [
       "<style>#sk-container-id-2 {color: black;background-color: white;}#sk-container-id-2 pre{padding: 0;}#sk-container-id-2 div.sk-toggleable {background-color: white;}#sk-container-id-2 label.sk-toggleable__label {cursor: pointer;display: block;width: 100%;margin-bottom: 0;padding: 0.3em;box-sizing: border-box;text-align: center;}#sk-container-id-2 label.sk-toggleable__label-arrow:before {content: \"▸\";float: left;margin-right: 0.25em;color: #696969;}#sk-container-id-2 label.sk-toggleable__label-arrow:hover:before {color: black;}#sk-container-id-2 div.sk-estimator:hover label.sk-toggleable__label-arrow:before {color: black;}#sk-container-id-2 div.sk-toggleable__content {max-height: 0;max-width: 0;overflow: hidden;text-align: left;background-color: #f0f8ff;}#sk-container-id-2 div.sk-toggleable__content pre {margin: 0.2em;color: black;border-radius: 0.25em;background-color: #f0f8ff;}#sk-container-id-2 input.sk-toggleable__control:checked~div.sk-toggleable__content {max-height: 200px;max-width: 100%;overflow: auto;}#sk-container-id-2 input.sk-toggleable__control:checked~label.sk-toggleable__label-arrow:before {content: \"▾\";}#sk-container-id-2 div.sk-estimator input.sk-toggleable__control:checked~label.sk-toggleable__label {background-color: #d4ebff;}#sk-container-id-2 div.sk-label input.sk-toggleable__control:checked~label.sk-toggleable__label {background-color: #d4ebff;}#sk-container-id-2 input.sk-hidden--visually {border: 0;clip: rect(1px 1px 1px 1px);clip: rect(1px, 1px, 1px, 1px);height: 1px;margin: -1px;overflow: hidden;padding: 0;position: absolute;width: 1px;}#sk-container-id-2 div.sk-estimator {font-family: monospace;background-color: #f0f8ff;border: 1px dotted black;border-radius: 0.25em;box-sizing: border-box;margin-bottom: 0.5em;}#sk-container-id-2 div.sk-estimator:hover {background-color: #d4ebff;}#sk-container-id-2 div.sk-parallel-item::after {content: \"\";width: 100%;border-bottom: 1px solid gray;flex-grow: 1;}#sk-container-id-2 div.sk-label:hover label.sk-toggleable__label {background-color: #d4ebff;}#sk-container-id-2 div.sk-serial::before {content: \"\";position: absolute;border-left: 1px solid gray;box-sizing: border-box;top: 0;bottom: 0;left: 50%;z-index: 0;}#sk-container-id-2 div.sk-serial {display: flex;flex-direction: column;align-items: center;background-color: white;padding-right: 0.2em;padding-left: 0.2em;position: relative;}#sk-container-id-2 div.sk-item {position: relative;z-index: 1;}#sk-container-id-2 div.sk-parallel {display: flex;align-items: stretch;justify-content: center;background-color: white;position: relative;}#sk-container-id-2 div.sk-item::before, #sk-container-id-2 div.sk-parallel-item::before {content: \"\";position: absolute;border-left: 1px solid gray;box-sizing: border-box;top: 0;bottom: 0;left: 50%;z-index: -1;}#sk-container-id-2 div.sk-parallel-item {display: flex;flex-direction: column;z-index: 1;position: relative;background-color: white;}#sk-container-id-2 div.sk-parallel-item:first-child::after {align-self: flex-end;width: 50%;}#sk-container-id-2 div.sk-parallel-item:last-child::after {align-self: flex-start;width: 50%;}#sk-container-id-2 div.sk-parallel-item:only-child::after {width: 0;}#sk-container-id-2 div.sk-dashed-wrapped {border: 1px dashed gray;margin: 0 0.4em 0.5em 0.4em;box-sizing: border-box;padding-bottom: 0.4em;background-color: white;}#sk-container-id-2 div.sk-label label {font-family: monospace;font-weight: bold;display: inline-block;line-height: 1.2em;}#sk-container-id-2 div.sk-label-container {text-align: center;}#sk-container-id-2 div.sk-container {/* jupyter's `normalize.less` sets `[hidden] { display: none; }` but bootstrap.min.css set `[hidden] { display: none !important; }` so we also need the `!important` here to be able to override the default hidden behavior on the sphinx rendered scikit-learn.org. See: https://github.com/scikit-learn/scikit-learn/issues/21755 */display: inline-block !important;position: relative;}#sk-container-id-2 div.sk-text-repr-fallback {display: none;}</style><div id=\"sk-container-id-2\" class=\"sk-top-container\"><div class=\"sk-text-repr-fallback\"><pre>ColumnTransformer(transformers=[(&#x27;process&#x27;, StandardScaler(),\n",
       "                                 [&#x27;Call  Failure&#x27;, &#x27;Subscription  Length&#x27;,\n",
       "                                  &#x27;Charge  Amount&#x27;, &#x27;Distinct Called Numbers&#x27;,\n",
       "                                  &#x27;Age Group&#x27;]),\n",
       "                                (&#x27;skip&#x27;, &#x27;passthrough&#x27;,\n",
       "                                 [&#x27;Complains&#x27;, &#x27;Tariff Plan&#x27;, &#x27;Status&#x27;, &#x27;PC1&#x27;,\n",
       "                                  &#x27;PC2&#x27;])])</pre><b>In a Jupyter environment, please rerun this cell to show the HTML representation or trust the notebook. <br />On GitHub, the HTML representation is unable to render, please try loading this page with nbviewer.org.</b></div><div class=\"sk-container\" hidden><div class=\"sk-item sk-dashed-wrapped\"><div class=\"sk-label-container\"><div class=\"sk-label sk-toggleable\"><input class=\"sk-toggleable__control sk-hidden--visually\" id=\"sk-estimator-id-6\" type=\"checkbox\" ><label for=\"sk-estimator-id-6\" class=\"sk-toggleable__label sk-toggleable__label-arrow\">ColumnTransformer</label><div class=\"sk-toggleable__content\"><pre>ColumnTransformer(transformers=[(&#x27;process&#x27;, StandardScaler(),\n",
       "                                 [&#x27;Call  Failure&#x27;, &#x27;Subscription  Length&#x27;,\n",
       "                                  &#x27;Charge  Amount&#x27;, &#x27;Distinct Called Numbers&#x27;,\n",
       "                                  &#x27;Age Group&#x27;]),\n",
       "                                (&#x27;skip&#x27;, &#x27;passthrough&#x27;,\n",
       "                                 [&#x27;Complains&#x27;, &#x27;Tariff Plan&#x27;, &#x27;Status&#x27;, &#x27;PC1&#x27;,\n",
       "                                  &#x27;PC2&#x27;])])</pre></div></div></div><div class=\"sk-parallel\"><div class=\"sk-parallel-item\"><div class=\"sk-item\"><div class=\"sk-label-container\"><div class=\"sk-label sk-toggleable\"><input class=\"sk-toggleable__control sk-hidden--visually\" id=\"sk-estimator-id-7\" type=\"checkbox\" ><label for=\"sk-estimator-id-7\" class=\"sk-toggleable__label sk-toggleable__label-arrow\">process</label><div class=\"sk-toggleable__content\"><pre>[&#x27;Call  Failure&#x27;, &#x27;Subscription  Length&#x27;, &#x27;Charge  Amount&#x27;, &#x27;Distinct Called Numbers&#x27;, &#x27;Age Group&#x27;]</pre></div></div></div><div class=\"sk-serial\"><div class=\"sk-item\"><div class=\"sk-estimator sk-toggleable\"><input class=\"sk-toggleable__control sk-hidden--visually\" id=\"sk-estimator-id-8\" type=\"checkbox\" ><label for=\"sk-estimator-id-8\" class=\"sk-toggleable__label sk-toggleable__label-arrow\">StandardScaler</label><div class=\"sk-toggleable__content\"><pre>StandardScaler()</pre></div></div></div></div></div></div><div class=\"sk-parallel-item\"><div class=\"sk-item\"><div class=\"sk-label-container\"><div class=\"sk-label sk-toggleable\"><input class=\"sk-toggleable__control sk-hidden--visually\" id=\"sk-estimator-id-9\" type=\"checkbox\" ><label for=\"sk-estimator-id-9\" class=\"sk-toggleable__label sk-toggleable__label-arrow\">skip</label><div class=\"sk-toggleable__content\"><pre>[&#x27;Complains&#x27;, &#x27;Tariff Plan&#x27;, &#x27;Status&#x27;, &#x27;PC1&#x27;, &#x27;PC2&#x27;]</pre></div></div></div><div class=\"sk-serial\"><div class=\"sk-item\"><div class=\"sk-estimator sk-toggleable\"><input class=\"sk-toggleable__control sk-hidden--visually\" id=\"sk-estimator-id-10\" type=\"checkbox\" ><label for=\"sk-estimator-id-10\" class=\"sk-toggleable__label sk-toggleable__label-arrow\">passthrough</label><div class=\"sk-toggleable__content\"><pre>passthrough</pre></div></div></div></div></div></div></div></div></div></div>"
      ],
      "text/plain": [
       "ColumnTransformer(transformers=[('process', StandardScaler(),\n",
       "                                 ['Call  Failure', 'Subscription  Length',\n",
       "                                  'Charge  Amount', 'Distinct Called Numbers',\n",
       "                                  'Age Group']),\n",
       "                                ('skip', 'passthrough',\n",
       "                                 ['Complains', 'Tariff Plan', 'Status', 'PC1',\n",
       "                                  'PC2'])])"
      ]
     },
     "execution_count": 39,
     "metadata": {},
     "output_type": "execute_result"
    }
   ],
   "source": [
    "cur_dict['scaler']"
   ]
  },
  {
   "cell_type": "code",
   "execution_count": 40,
   "id": "8c69d429-8043-4494-8e13-1e82999ae8d7",
   "metadata": {},
   "outputs": [
    {
     "name": "stdout",
     "output_type": "stream",
     "text": [
      "pca =================\n",
      "0.032 seconds\n"
     ]
    }
   ],
   "source": [
    "pca_result = run_lr(pca_wrapper)"
   ]
  },
  {
   "cell_type": "code",
   "execution_count": 41,
   "id": "1fd87620-b404-4a08-b210-07e9d88cf83c",
   "metadata": {},
   "outputs": [
    {
     "data": {
      "text/html": [
       "<div>\n",
       "<style scoped>\n",
       "    .dataframe tbody tr th:only-of-type {\n",
       "        vertical-align: middle;\n",
       "    }\n",
       "\n",
       "    .dataframe tbody tr th {\n",
       "        vertical-align: top;\n",
       "    }\n",
       "\n",
       "    .dataframe thead th {\n",
       "        text-align: right;\n",
       "    }\n",
       "</style>\n",
       "<table border=\"1\" class=\"dataframe\">\n",
       "  <thead>\n",
       "    <tr style=\"text-align: right;\">\n",
       "      <th></th>\n",
       "      <th>Metric</th>\n",
       "      <th>Average</th>\n",
       "    </tr>\n",
       "  </thead>\n",
       "  <tbody>\n",
       "    <tr>\n",
       "      <th>0</th>\n",
       "      <td>accuracy</td>\n",
       "      <td>0.890</td>\n",
       "    </tr>\n",
       "    <tr>\n",
       "      <th>1</th>\n",
       "      <td>precision</td>\n",
       "      <td>0.759</td>\n",
       "    </tr>\n",
       "    <tr>\n",
       "      <th>2</th>\n",
       "      <td>recall</td>\n",
       "      <td>0.452</td>\n",
       "    </tr>\n",
       "    <tr>\n",
       "      <th>3</th>\n",
       "      <td>f1_score</td>\n",
       "      <td>0.560</td>\n",
       "    </tr>\n",
       "  </tbody>\n",
       "</table>\n",
       "</div>"
      ],
      "text/plain": [
       "      Metric  Average\n",
       "0   accuracy    0.890\n",
       "1  precision    0.759\n",
       "2     recall    0.452\n",
       "3   f1_score    0.560"
      ]
     },
     "execution_count": 41,
     "metadata": {},
     "output_type": "execute_result"
    }
   ],
   "source": [
    "pca_result['pca']"
   ]
  },
  {
   "cell_type": "markdown",
   "id": "b2ac80a2-c126-4b97-b53a-ed852d2081b5",
   "metadata": {},
   "source": [
    "### 4. Spline Transformation"
   ]
  },
  {
   "cell_type": "code",
   "execution_count": 42,
   "id": "92350552-1fdb-4ae2-9f7a-c9002c106036",
   "metadata": {},
   "outputs": [],
   "source": [
    "from sklearn.preprocessing import SplineTransformer"
   ]
  },
  {
   "cell_type": "code",
   "execution_count": 43,
   "id": "4d4db629-eade-4ea2-bc0d-32828ce26d3e",
   "metadata": {},
   "outputs": [],
   "source": [
    "def spline_cross_validate(data, model_class, model_params, drops, scaler):\n",
    "    result_dict = {} \n",
    "    \n",
    "    metrics = ['accuracy', 'precision', 'recall', 'f1_score']\n",
    "    for m in metrics:\n",
    "        result_dict[m] = []\n",
    "\n",
    "    X_train, y_train = data\n",
    "    kf = KFold(n_splits=5, shuffle=True, random_state=42)\n",
    "    \n",
    "    # removing correlated columns\n",
    "    X_train = X_train.drop(columns=drops, axis=1)\n",
    "\n",
    "    start_time = time.time()\n",
    "    \n",
    "    for fold in kf.split(X_train): \n",
    "        trn_idx, val_idx = fold\n",
    "        X_trn, X_val = X_train.iloc[trn_idx], X_train.iloc[val_idx] # analysis set \n",
    "        y_trn, y_val = y_train.iloc[trn_idx], y_train.iloc[val_idx] # assessment set\n",
    "\n",
    "        # spline & scaler transformation\n",
    "        X_trn = scaler.fit_transform(X_trn) \n",
    "        X_val = scaler.transform(X_val) \n",
    "\n",
    "        # 원래 변환 전 칼럼을 드랍해야 함 \n",
    "\n",
    "        # model fitting\n",
    "        model = model_class(**model_params)\n",
    "        model.fit(X_trn, y_trn)\n",
    "        \n",
    "        # model evaluation\n",
    "        y_pred = model.predict(X_val)\n",
    "        conf_mat = confusion_matrix(y_val, y_pred)\n",
    "        fold_result = matrix_to_metrics(conf_mat)\n",
    "        for i, val in enumerate(fold_result):\n",
    "            result_dict[metrics[i]].append(round(fold_result[i], 4))\n",
    "            \n",
    "    end_time = time.time() \n",
    "    elapsed_time = end_time - start_time\n",
    "    readable_time = f\"{elapsed_time:.3f} seconds\"\n",
    "    print(readable_time)\n",
    "\n",
    "    for key in result_dict:\n",
    "        result_dict[key].append({'average': round(sum(result_dict[key]) / len(result_dict[key]), 3)})\n",
    "    \n",
    "    return result_dict"
   ]
  },
  {
   "cell_type": "code",
   "execution_count": 44,
   "id": "2611682c-9ee9-4e41-a4d3-7be76267db2e",
   "metadata": {},
   "outputs": [],
   "source": [
    "def run_spline(model_dict):\n",
    "    result_dict = {}\n",
    "    for name in model_dict:\n",
    "        print(name, '='* (20-len(name)))\n",
    "        data = model_dict[name]['data']\n",
    "        model_class = model_dict[name]['class']\n",
    "        model_params= model_dict[name]['param']\n",
    "        drops = model_dict[name]['drop']\n",
    "        scaler = model_dict[name]['scaler']\n",
    "        single_result = spline_cross_validate(data, model_class, model_params, drops, scaler)\n",
    "        result_dict[name] = get_summary(single_result)   \n",
    "    return result_dict"
   ]
  },
  {
   "cell_type": "code",
   "execution_count": 45,
   "id": "a3a8da38-9c60-44e7-9604-fb6ce731e8ce",
   "metadata": {},
   "outputs": [],
   "source": [
    "binaries = ['Complains', 'Tariff Plan', 'Status']\n",
    "discretes = [c for c in X_train.columns if c not in binaries and c not in continuous_features]"
   ]
  },
  {
   "cell_type": "code",
   "execution_count": 46,
   "id": "08eb8cfb-26db-495c-b37a-5ec7bd7a9eb4",
   "metadata": {},
   "outputs": [],
   "source": [
    "from sklearn.pipeline import Pipeline\n",
    "# spline + scaler\n",
    "spline_scaler_pipeline = Pipeline([\n",
    "    ('spline', SplineTransformer(degree=3, n_knots=4)),  # Spline 변환\n",
    "    ('scaler', StandardScaler()) \n",
    "])\n",
    "\n",
    "spline_scaler = ColumnTransformer(\n",
    "                transformers=[('both', spline_scaler_pipeline, continuous_features), \n",
    "                              ('scaler_only', StandardScaler(), discretes),\n",
    "                              ('skip', 'passthrough', binaries)])"
   ]
  },
  {
   "cell_type": "code",
   "execution_count": 47,
   "id": "71f781bd-72e2-43cf-8ce7-c4287b45f718",
   "metadata": {},
   "outputs": [
    {
     "data": {
      "text/html": [
       "<style>#sk-container-id-3 {color: black;background-color: white;}#sk-container-id-3 pre{padding: 0;}#sk-container-id-3 div.sk-toggleable {background-color: white;}#sk-container-id-3 label.sk-toggleable__label {cursor: pointer;display: block;width: 100%;margin-bottom: 0;padding: 0.3em;box-sizing: border-box;text-align: center;}#sk-container-id-3 label.sk-toggleable__label-arrow:before {content: \"▸\";float: left;margin-right: 0.25em;color: #696969;}#sk-container-id-3 label.sk-toggleable__label-arrow:hover:before {color: black;}#sk-container-id-3 div.sk-estimator:hover label.sk-toggleable__label-arrow:before {color: black;}#sk-container-id-3 div.sk-toggleable__content {max-height: 0;max-width: 0;overflow: hidden;text-align: left;background-color: #f0f8ff;}#sk-container-id-3 div.sk-toggleable__content pre {margin: 0.2em;color: black;border-radius: 0.25em;background-color: #f0f8ff;}#sk-container-id-3 input.sk-toggleable__control:checked~div.sk-toggleable__content {max-height: 200px;max-width: 100%;overflow: auto;}#sk-container-id-3 input.sk-toggleable__control:checked~label.sk-toggleable__label-arrow:before {content: \"▾\";}#sk-container-id-3 div.sk-estimator input.sk-toggleable__control:checked~label.sk-toggleable__label {background-color: #d4ebff;}#sk-container-id-3 div.sk-label input.sk-toggleable__control:checked~label.sk-toggleable__label {background-color: #d4ebff;}#sk-container-id-3 input.sk-hidden--visually {border: 0;clip: rect(1px 1px 1px 1px);clip: rect(1px, 1px, 1px, 1px);height: 1px;margin: -1px;overflow: hidden;padding: 0;position: absolute;width: 1px;}#sk-container-id-3 div.sk-estimator {font-family: monospace;background-color: #f0f8ff;border: 1px dotted black;border-radius: 0.25em;box-sizing: border-box;margin-bottom: 0.5em;}#sk-container-id-3 div.sk-estimator:hover {background-color: #d4ebff;}#sk-container-id-3 div.sk-parallel-item::after {content: \"\";width: 100%;border-bottom: 1px solid gray;flex-grow: 1;}#sk-container-id-3 div.sk-label:hover label.sk-toggleable__label {background-color: #d4ebff;}#sk-container-id-3 div.sk-serial::before {content: \"\";position: absolute;border-left: 1px solid gray;box-sizing: border-box;top: 0;bottom: 0;left: 50%;z-index: 0;}#sk-container-id-3 div.sk-serial {display: flex;flex-direction: column;align-items: center;background-color: white;padding-right: 0.2em;padding-left: 0.2em;position: relative;}#sk-container-id-3 div.sk-item {position: relative;z-index: 1;}#sk-container-id-3 div.sk-parallel {display: flex;align-items: stretch;justify-content: center;background-color: white;position: relative;}#sk-container-id-3 div.sk-item::before, #sk-container-id-3 div.sk-parallel-item::before {content: \"\";position: absolute;border-left: 1px solid gray;box-sizing: border-box;top: 0;bottom: 0;left: 50%;z-index: -1;}#sk-container-id-3 div.sk-parallel-item {display: flex;flex-direction: column;z-index: 1;position: relative;background-color: white;}#sk-container-id-3 div.sk-parallel-item:first-child::after {align-self: flex-end;width: 50%;}#sk-container-id-3 div.sk-parallel-item:last-child::after {align-self: flex-start;width: 50%;}#sk-container-id-3 div.sk-parallel-item:only-child::after {width: 0;}#sk-container-id-3 div.sk-dashed-wrapped {border: 1px dashed gray;margin: 0 0.4em 0.5em 0.4em;box-sizing: border-box;padding-bottom: 0.4em;background-color: white;}#sk-container-id-3 div.sk-label label {font-family: monospace;font-weight: bold;display: inline-block;line-height: 1.2em;}#sk-container-id-3 div.sk-label-container {text-align: center;}#sk-container-id-3 div.sk-container {/* jupyter's `normalize.less` sets `[hidden] { display: none; }` but bootstrap.min.css set `[hidden] { display: none !important; }` so we also need the `!important` here to be able to override the default hidden behavior on the sphinx rendered scikit-learn.org. See: https://github.com/scikit-learn/scikit-learn/issues/21755 */display: inline-block !important;position: relative;}#sk-container-id-3 div.sk-text-repr-fallback {display: none;}</style><div id=\"sk-container-id-3\" class=\"sk-top-container\"><div class=\"sk-text-repr-fallback\"><pre>ColumnTransformer(transformers=[(&#x27;both&#x27;,\n",
       "                                 Pipeline(steps=[(&#x27;spline&#x27;,\n",
       "                                                  SplineTransformer(n_knots=4)),\n",
       "                                                 (&#x27;scaler&#x27;, StandardScaler())]),\n",
       "                                 [&#x27;Call  Failure&#x27;, &#x27;Subscription  Length&#x27;,\n",
       "                                  &#x27;Seconds of Use&#x27;, &#x27;Frequency of use&#x27;,\n",
       "                                  &#x27;Frequency of SMS&#x27;, &#x27;Distinct Called Numbers&#x27;,\n",
       "                                  &#x27;Customer Value&#x27;]),\n",
       "                                (&#x27;scaler_only&#x27;, StandardScaler(),\n",
       "                                 [&#x27;Charge  Amount&#x27;, &#x27;Age Group&#x27;]),\n",
       "                                (&#x27;skip&#x27;, &#x27;passthrough&#x27;,\n",
       "                                 [&#x27;Complains&#x27;, &#x27;Tariff Plan&#x27;, &#x27;Status&#x27;])])</pre><b>In a Jupyter environment, please rerun this cell to show the HTML representation or trust the notebook. <br />On GitHub, the HTML representation is unable to render, please try loading this page with nbviewer.org.</b></div><div class=\"sk-container\" hidden><div class=\"sk-item sk-dashed-wrapped\"><div class=\"sk-label-container\"><div class=\"sk-label sk-toggleable\"><input class=\"sk-toggleable__control sk-hidden--visually\" id=\"sk-estimator-id-11\" type=\"checkbox\" ><label for=\"sk-estimator-id-11\" class=\"sk-toggleable__label sk-toggleable__label-arrow\">ColumnTransformer</label><div class=\"sk-toggleable__content\"><pre>ColumnTransformer(transformers=[(&#x27;both&#x27;,\n",
       "                                 Pipeline(steps=[(&#x27;spline&#x27;,\n",
       "                                                  SplineTransformer(n_knots=4)),\n",
       "                                                 (&#x27;scaler&#x27;, StandardScaler())]),\n",
       "                                 [&#x27;Call  Failure&#x27;, &#x27;Subscription  Length&#x27;,\n",
       "                                  &#x27;Seconds of Use&#x27;, &#x27;Frequency of use&#x27;,\n",
       "                                  &#x27;Frequency of SMS&#x27;, &#x27;Distinct Called Numbers&#x27;,\n",
       "                                  &#x27;Customer Value&#x27;]),\n",
       "                                (&#x27;scaler_only&#x27;, StandardScaler(),\n",
       "                                 [&#x27;Charge  Amount&#x27;, &#x27;Age Group&#x27;]),\n",
       "                                (&#x27;skip&#x27;, &#x27;passthrough&#x27;,\n",
       "                                 [&#x27;Complains&#x27;, &#x27;Tariff Plan&#x27;, &#x27;Status&#x27;])])</pre></div></div></div><div class=\"sk-parallel\"><div class=\"sk-parallel-item\"><div class=\"sk-item\"><div class=\"sk-label-container\"><div class=\"sk-label sk-toggleable\"><input class=\"sk-toggleable__control sk-hidden--visually\" id=\"sk-estimator-id-12\" type=\"checkbox\" ><label for=\"sk-estimator-id-12\" class=\"sk-toggleable__label sk-toggleable__label-arrow\">both</label><div class=\"sk-toggleable__content\"><pre>[&#x27;Call  Failure&#x27;, &#x27;Subscription  Length&#x27;, &#x27;Seconds of Use&#x27;, &#x27;Frequency of use&#x27;, &#x27;Frequency of SMS&#x27;, &#x27;Distinct Called Numbers&#x27;, &#x27;Customer Value&#x27;]</pre></div></div></div><div class=\"sk-serial\"><div class=\"sk-item\"><div class=\"sk-serial\"><div class=\"sk-item\"><div class=\"sk-estimator sk-toggleable\"><input class=\"sk-toggleable__control sk-hidden--visually\" id=\"sk-estimator-id-13\" type=\"checkbox\" ><label for=\"sk-estimator-id-13\" class=\"sk-toggleable__label sk-toggleable__label-arrow\">SplineTransformer</label><div class=\"sk-toggleable__content\"><pre>SplineTransformer(n_knots=4)</pre></div></div></div><div class=\"sk-item\"><div class=\"sk-estimator sk-toggleable\"><input class=\"sk-toggleable__control sk-hidden--visually\" id=\"sk-estimator-id-14\" type=\"checkbox\" ><label for=\"sk-estimator-id-14\" class=\"sk-toggleable__label sk-toggleable__label-arrow\">StandardScaler</label><div class=\"sk-toggleable__content\"><pre>StandardScaler()</pre></div></div></div></div></div></div></div></div><div class=\"sk-parallel-item\"><div class=\"sk-item\"><div class=\"sk-label-container\"><div class=\"sk-label sk-toggleable\"><input class=\"sk-toggleable__control sk-hidden--visually\" id=\"sk-estimator-id-15\" type=\"checkbox\" ><label for=\"sk-estimator-id-15\" class=\"sk-toggleable__label sk-toggleable__label-arrow\">scaler_only</label><div class=\"sk-toggleable__content\"><pre>[&#x27;Charge  Amount&#x27;, &#x27;Age Group&#x27;]</pre></div></div></div><div class=\"sk-serial\"><div class=\"sk-item\"><div class=\"sk-estimator sk-toggleable\"><input class=\"sk-toggleable__control sk-hidden--visually\" id=\"sk-estimator-id-16\" type=\"checkbox\" ><label for=\"sk-estimator-id-16\" class=\"sk-toggleable__label sk-toggleable__label-arrow\">StandardScaler</label><div class=\"sk-toggleable__content\"><pre>StandardScaler()</pre></div></div></div></div></div></div><div class=\"sk-parallel-item\"><div class=\"sk-item\"><div class=\"sk-label-container\"><div class=\"sk-label sk-toggleable\"><input class=\"sk-toggleable__control sk-hidden--visually\" id=\"sk-estimator-id-17\" type=\"checkbox\" ><label for=\"sk-estimator-id-17\" class=\"sk-toggleable__label sk-toggleable__label-arrow\">skip</label><div class=\"sk-toggleable__content\"><pre>[&#x27;Complains&#x27;, &#x27;Tariff Plan&#x27;, &#x27;Status&#x27;]</pre></div></div></div><div class=\"sk-serial\"><div class=\"sk-item\"><div class=\"sk-estimator sk-toggleable\"><input class=\"sk-toggleable__control sk-hidden--visually\" id=\"sk-estimator-id-18\" type=\"checkbox\" ><label for=\"sk-estimator-id-18\" class=\"sk-toggleable__label sk-toggleable__label-arrow\">passthrough</label><div class=\"sk-toggleable__content\"><pre>passthrough</pre></div></div></div></div></div></div></div></div></div></div>"
      ],
      "text/plain": [
       "ColumnTransformer(transformers=[('both',\n",
       "                                 Pipeline(steps=[('spline',\n",
       "                                                  SplineTransformer(n_knots=4)),\n",
       "                                                 ('scaler', StandardScaler())]),\n",
       "                                 ['Call  Failure', 'Subscription  Length',\n",
       "                                  'Seconds of Use', 'Frequency of use',\n",
       "                                  'Frequency of SMS', 'Distinct Called Numbers',\n",
       "                                  'Customer Value']),\n",
       "                                ('scaler_only', StandardScaler(),\n",
       "                                 ['Charge  Amount', 'Age Group']),\n",
       "                                ('skip', 'passthrough',\n",
       "                                 ['Complains', 'Tariff Plan', 'Status'])])"
      ]
     },
     "execution_count": 47,
     "metadata": {},
     "output_type": "execute_result"
    }
   ],
   "source": [
    "spline_scaler"
   ]
  },
  {
   "cell_type": "code",
   "execution_count": 48,
   "id": "ad58a211-a517-4e04-8a6a-16ddc31e872f",
   "metadata": {},
   "outputs": [
    {
     "data": {
      "text/html": [
       "<div>\n",
       "<style scoped>\n",
       "    .dataframe tbody tr th:only-of-type {\n",
       "        vertical-align: middle;\n",
       "    }\n",
       "\n",
       "    .dataframe tbody tr th {\n",
       "        vertical-align: top;\n",
       "    }\n",
       "\n",
       "    .dataframe thead th {\n",
       "        text-align: right;\n",
       "    }\n",
       "</style>\n",
       "<table border=\"1\" class=\"dataframe\">\n",
       "  <thead>\n",
       "    <tr style=\"text-align: right;\">\n",
       "      <th></th>\n",
       "      <th>Call  Failure</th>\n",
       "      <th>Complains</th>\n",
       "      <th>Subscription  Length</th>\n",
       "      <th>Charge  Amount</th>\n",
       "      <th>Seconds of Use</th>\n",
       "      <th>Frequency of use</th>\n",
       "      <th>Frequency of SMS</th>\n",
       "      <th>Distinct Called Numbers</th>\n",
       "      <th>Age Group</th>\n",
       "      <th>Tariff Plan</th>\n",
       "      <th>Status</th>\n",
       "      <th>Customer Value</th>\n",
       "    </tr>\n",
       "  </thead>\n",
       "  <tbody>\n",
       "    <tr>\n",
       "      <th>1198</th>\n",
       "      <td>16</td>\n",
       "      <td>0</td>\n",
       "      <td>42</td>\n",
       "      <td>2</td>\n",
       "      <td>4735</td>\n",
       "      <td>80</td>\n",
       "      <td>17</td>\n",
       "      <td>21</td>\n",
       "      <td>3</td>\n",
       "      <td>1</td>\n",
       "      <td>1</td>\n",
       "      <td>260.600</td>\n",
       "    </tr>\n",
       "    <tr>\n",
       "      <th>526</th>\n",
       "      <td>2</td>\n",
       "      <td>0</td>\n",
       "      <td>36</td>\n",
       "      <td>0</td>\n",
       "      <td>6008</td>\n",
       "      <td>64</td>\n",
       "      <td>83</td>\n",
       "      <td>37</td>\n",
       "      <td>2</td>\n",
       "      <td>1</td>\n",
       "      <td>1</td>\n",
       "      <td>646.740</td>\n",
       "    </tr>\n",
       "    <tr>\n",
       "      <th>393</th>\n",
       "      <td>8</td>\n",
       "      <td>0</td>\n",
       "      <td>39</td>\n",
       "      <td>0</td>\n",
       "      <td>2583</td>\n",
       "      <td>58</td>\n",
       "      <td>7</td>\n",
       "      <td>31</td>\n",
       "      <td>1</td>\n",
       "      <td>1</td>\n",
       "      <td>1</td>\n",
       "      <td>183.755</td>\n",
       "    </tr>\n",
       "    <tr>\n",
       "      <th>1407</th>\n",
       "      <td>2</td>\n",
       "      <td>0</td>\n",
       "      <td>34</td>\n",
       "      <td>0</td>\n",
       "      <td>1773</td>\n",
       "      <td>37</td>\n",
       "      <td>18</td>\n",
       "      <td>26</td>\n",
       "      <td>3</td>\n",
       "      <td>1</td>\n",
       "      <td>2</td>\n",
       "      <td>144.400</td>\n",
       "    </tr>\n",
       "    <tr>\n",
       "      <th>433</th>\n",
       "      <td>29</td>\n",
       "      <td>0</td>\n",
       "      <td>36</td>\n",
       "      <td>3</td>\n",
       "      <td>15365</td>\n",
       "      <td>229</td>\n",
       "      <td>51</td>\n",
       "      <td>30</td>\n",
       "      <td>3</td>\n",
       "      <td>1</td>\n",
       "      <td>1</td>\n",
       "      <td>827.760</td>\n",
       "    </tr>\n",
       "  </tbody>\n",
       "</table>\n",
       "</div>"
      ],
      "text/plain": [
       "      Call  Failure  Complains  Subscription  Length  Charge  Amount  \\\n",
       "1198             16          0                    42               2   \n",
       "526               2          0                    36               0   \n",
       "393               8          0                    39               0   \n",
       "1407              2          0                    34               0   \n",
       "433              29          0                    36               3   \n",
       "\n",
       "      Seconds of Use  Frequency of use  Frequency of SMS  \\\n",
       "1198            4735                80                17   \n",
       "526             6008                64                83   \n",
       "393             2583                58                 7   \n",
       "1407            1773                37                18   \n",
       "433            15365               229                51   \n",
       "\n",
       "      Distinct Called Numbers  Age Group  Tariff Plan  Status  Customer Value  \n",
       "1198                       21          3            1       1         260.600  \n",
       "526                        37          2            1       1         646.740  \n",
       "393                        31          1            1       1         183.755  \n",
       "1407                       26          3            1       2         144.400  \n",
       "433                        30          3            1       1         827.760  "
      ]
     },
     "execution_count": 48,
     "metadata": {},
     "output_type": "execute_result"
    }
   ],
   "source": [
    "sample_X = X_train.sample(10, random_state=42)\n",
    "sample_X.head()"
   ]
  },
  {
   "cell_type": "code",
   "execution_count": 49,
   "id": "25463c16-8705-4458-a24d-5099deaae0a4",
   "metadata": {},
   "outputs": [],
   "source": [
    "spline_sample_X = spline_scaler.fit_transform(sample_X)"
   ]
  },
  {
   "cell_type": "code",
   "execution_count": 50,
   "id": "0ddcaa0e-9989-46ac-abe0-fcc384320b3e",
   "metadata": {},
   "outputs": [
    {
     "data": {
      "text/plain": [
       "(10, 12)"
      ]
     },
     "execution_count": 50,
     "metadata": {},
     "output_type": "execute_result"
    }
   ],
   "source": [
    "sample_X.shape"
   ]
  },
  {
   "cell_type": "code",
   "execution_count": 51,
   "id": "b3cfa387-cdc0-48f1-87cd-f73608bad09e",
   "metadata": {},
   "outputs": [
    {
     "data": {
      "text/plain": [
       "7"
      ]
     },
     "execution_count": 51,
     "metadata": {},
     "output_type": "execute_result"
    }
   ],
   "source": [
    "len(continuous_features)"
   ]
  },
  {
   "cell_type": "code",
   "execution_count": 52,
   "id": "0fc5d070-31cd-43a2-bc13-b107689de5de",
   "metadata": {},
   "outputs": [
    {
     "data": {
      "text/plain": [
       "(10, 47)"
      ]
     },
     "execution_count": 52,
     "metadata": {},
     "output_type": "execute_result"
    }
   ],
   "source": [
    "spline_sample_X.shape"
   ]
  },
  {
   "cell_type": "code",
   "execution_count": 53,
   "id": "101ab719-c514-4c19-ac97-9f96184370d8",
   "metadata": {},
   "outputs": [
    {
     "data": {
      "text/html": [
       "<div>\n",
       "<style scoped>\n",
       "    .dataframe tbody tr th:only-of-type {\n",
       "        vertical-align: middle;\n",
       "    }\n",
       "\n",
       "    .dataframe tbody tr th {\n",
       "        vertical-align: top;\n",
       "    }\n",
       "\n",
       "    .dataframe thead th {\n",
       "        text-align: right;\n",
       "    }\n",
       "</style>\n",
       "<table border=\"1\" class=\"dataframe\">\n",
       "  <thead>\n",
       "    <tr style=\"text-align: right;\">\n",
       "      <th></th>\n",
       "      <th>0</th>\n",
       "      <th>1</th>\n",
       "      <th>2</th>\n",
       "      <th>3</th>\n",
       "      <th>4</th>\n",
       "      <th>5</th>\n",
       "      <th>6</th>\n",
       "      <th>7</th>\n",
       "      <th>8</th>\n",
       "      <th>9</th>\n",
       "      <th>...</th>\n",
       "      <th>37</th>\n",
       "      <th>38</th>\n",
       "      <th>39</th>\n",
       "      <th>40</th>\n",
       "      <th>41</th>\n",
       "      <th>42</th>\n",
       "      <th>43</th>\n",
       "      <th>44</th>\n",
       "      <th>45</th>\n",
       "      <th>46</th>\n",
       "    </tr>\n",
       "  </thead>\n",
       "  <tbody>\n",
       "    <tr>\n",
       "      <th>0</th>\n",
       "      <td>-0.838720</td>\n",
       "      <td>-1.383064</td>\n",
       "      <td>0.236899</td>\n",
       "      <td>2.073913</td>\n",
       "      <td>-0.137712</td>\n",
       "      <td>-0.333333</td>\n",
       "      <td>-0.450107</td>\n",
       "      <td>-0.681706</td>\n",
       "      <td>-1.395867</td>\n",
       "      <td>-0.527350</td>\n",
       "      <td>...</td>\n",
       "      <td>0.587494</td>\n",
       "      <td>0.108618</td>\n",
       "      <td>-0.679281</td>\n",
       "      <td>-0.337108</td>\n",
       "      <td>-0.333333</td>\n",
       "      <td>0.968496</td>\n",
       "      <td>0.267261</td>\n",
       "      <td>0.0</td>\n",
       "      <td>1.0</td>\n",
       "      <td>1.0</td>\n",
       "    </tr>\n",
       "    <tr>\n",
       "      <th>1</th>\n",
       "      <td>0.457527</td>\n",
       "      <td>0.911885</td>\n",
       "      <td>-0.264940</td>\n",
       "      <td>-0.663937</td>\n",
       "      <td>-0.374320</td>\n",
       "      <td>-0.333333</td>\n",
       "      <td>-0.450107</td>\n",
       "      <td>-0.507118</td>\n",
       "      <td>0.973160</td>\n",
       "      <td>0.519272</td>\n",
       "      <td>...</td>\n",
       "      <td>-0.687903</td>\n",
       "      <td>1.518582</td>\n",
       "      <td>0.167351</td>\n",
       "      <td>-0.337108</td>\n",
       "      <td>-0.333333</td>\n",
       "      <td>-0.792406</td>\n",
       "      <td>-1.069045</td>\n",
       "      <td>0.0</td>\n",
       "      <td>1.0</td>\n",
       "      <td>1.0</td>\n",
       "    </tr>\n",
       "    <tr>\n",
       "      <th>2</th>\n",
       "      <td>-0.825403</td>\n",
       "      <td>-0.429048</td>\n",
       "      <td>1.679742</td>\n",
       "      <td>-0.214737</td>\n",
       "      <td>-0.374320</td>\n",
       "      <td>-0.333333</td>\n",
       "      <td>-0.450107</td>\n",
       "      <td>-0.681706</td>\n",
       "      <td>-1.008643</td>\n",
       "      <td>1.669504</td>\n",
       "      <td>...</td>\n",
       "      <td>0.754919</td>\n",
       "      <td>-0.240256</td>\n",
       "      <td>-0.708318</td>\n",
       "      <td>-0.337108</td>\n",
       "      <td>-0.333333</td>\n",
       "      <td>-0.792406</td>\n",
       "      <td>-2.405351</td>\n",
       "      <td>0.0</td>\n",
       "      <td>1.0</td>\n",
       "      <td>1.0</td>\n",
       "    </tr>\n",
       "    <tr>\n",
       "      <th>3</th>\n",
       "      <td>0.457527</td>\n",
       "      <td>0.911885</td>\n",
       "      <td>-0.264940</td>\n",
       "      <td>-0.663937</td>\n",
       "      <td>-0.374320</td>\n",
       "      <td>-0.333333</td>\n",
       "      <td>-0.430653</td>\n",
       "      <td>0.420283</td>\n",
       "      <td>1.304612</td>\n",
       "      <td>-0.879737</td>\n",
       "      <td>...</td>\n",
       "      <td>0.816425</td>\n",
       "      <td>-0.410671</td>\n",
       "      <td>-0.714820</td>\n",
       "      <td>-0.337108</td>\n",
       "      <td>-0.333333</td>\n",
       "      <td>-0.792406</td>\n",
       "      <td>0.267261</td>\n",
       "      <td>0.0</td>\n",
       "      <td>1.0</td>\n",
       "      <td>2.0</td>\n",
       "    </tr>\n",
       "    <tr>\n",
       "      <th>4</th>\n",
       "      <td>-0.838720</td>\n",
       "      <td>-1.408300</td>\n",
       "      <td>-1.849156</td>\n",
       "      <td>0.134014</td>\n",
       "      <td>2.990974</td>\n",
       "      <td>3.000000</td>\n",
       "      <td>-0.450107</td>\n",
       "      <td>-0.507118</td>\n",
       "      <td>0.973160</td>\n",
       "      <td>0.519272</td>\n",
       "      <td>...</td>\n",
       "      <td>-1.163526</td>\n",
       "      <td>1.504878</td>\n",
       "      <td>1.227545</td>\n",
       "      <td>-0.334892</td>\n",
       "      <td>-0.333333</td>\n",
       "      <td>1.848947</td>\n",
       "      <td>0.267261</td>\n",
       "      <td>0.0</td>\n",
       "      <td>1.0</td>\n",
       "      <td>1.0</td>\n",
       "    </tr>\n",
       "    <tr>\n",
       "      <th>5</th>\n",
       "      <td>-0.546380</td>\n",
       "      <td>0.321139</td>\n",
       "      <td>0.854016</td>\n",
       "      <td>-0.559658</td>\n",
       "      <td>-0.374320</td>\n",
       "      <td>-0.333333</td>\n",
       "      <td>-0.450107</td>\n",
       "      <td>-0.681706</td>\n",
       "      <td>-1.395867</td>\n",
       "      <td>-0.527350</td>\n",
       "      <td>...</td>\n",
       "      <td>-1.552705</td>\n",
       "      <td>-1.567671</td>\n",
       "      <td>0.609890</td>\n",
       "      <td>2.999866</td>\n",
       "      <td>3.000000</td>\n",
       "      <td>0.968496</td>\n",
       "      <td>0.267261</td>\n",
       "      <td>0.0</td>\n",
       "      <td>1.0</td>\n",
       "      <td>1.0</td>\n",
       "    </tr>\n",
       "    <tr>\n",
       "      <th>6</th>\n",
       "      <td>-0.838720</td>\n",
       "      <td>-1.352857</td>\n",
       "      <td>0.613278</td>\n",
       "      <td>1.796133</td>\n",
       "      <td>-0.233024</td>\n",
       "      <td>-0.333333</td>\n",
       "      <td>-0.450107</td>\n",
       "      <td>-0.649130</td>\n",
       "      <td>0.260859</td>\n",
       "      <td>1.304240</td>\n",
       "      <td>...</td>\n",
       "      <td>-1.375219</td>\n",
       "      <td>1.142532</td>\n",
       "      <td>2.252076</td>\n",
       "      <td>-0.305218</td>\n",
       "      <td>-0.333333</td>\n",
       "      <td>0.968496</td>\n",
       "      <td>0.267261</td>\n",
       "      <td>0.0</td>\n",
       "      <td>1.0</td>\n",
       "      <td>1.0</td>\n",
       "    </tr>\n",
       "    <tr>\n",
       "      <th>7</th>\n",
       "      <td>1.759635</td>\n",
       "      <td>1.053610</td>\n",
       "      <td>-0.929458</td>\n",
       "      <td>-0.671067</td>\n",
       "      <td>-0.374320</td>\n",
       "      <td>-0.333333</td>\n",
       "      <td>0.794921</td>\n",
       "      <td>1.767101</td>\n",
       "      <td>0.004302</td>\n",
       "      <td>-1.290659</td>\n",
       "      <td>...</td>\n",
       "      <td>0.861142</td>\n",
       "      <td>-0.583779</td>\n",
       "      <td>-0.717766</td>\n",
       "      <td>-0.337108</td>\n",
       "      <td>-0.333333</td>\n",
       "      <td>-0.792406</td>\n",
       "      <td>0.267261</td>\n",
       "      <td>0.0</td>\n",
       "      <td>1.0</td>\n",
       "      <td>1.0</td>\n",
       "    </tr>\n",
       "    <tr>\n",
       "      <th>8</th>\n",
       "      <td>-0.546380</td>\n",
       "      <td>0.321139</td>\n",
       "      <td>0.854016</td>\n",
       "      <td>-0.559658</td>\n",
       "      <td>-0.374320</td>\n",
       "      <td>-0.333333</td>\n",
       "      <td>-0.450107</td>\n",
       "      <td>-0.507118</td>\n",
       "      <td>0.973160</td>\n",
       "      <td>0.519272</td>\n",
       "      <td>...</td>\n",
       "      <td>0.881831</td>\n",
       "      <td>-0.778402</td>\n",
       "      <td>-0.718366</td>\n",
       "      <td>-0.337108</td>\n",
       "      <td>-0.333333</td>\n",
       "      <td>-0.792406</td>\n",
       "      <td>1.603567</td>\n",
       "      <td>0.0</td>\n",
       "      <td>1.0</td>\n",
       "      <td>2.0</td>\n",
       "    </tr>\n",
       "    <tr>\n",
       "      <th>9</th>\n",
       "      <td>1.759635</td>\n",
       "      <td>1.053610</td>\n",
       "      <td>-0.929458</td>\n",
       "      <td>-0.671067</td>\n",
       "      <td>-0.374320</td>\n",
       "      <td>-0.333333</td>\n",
       "      <td>2.786479</td>\n",
       "      <td>2.028219</td>\n",
       "      <td>-0.688877</td>\n",
       "      <td>-1.306464</td>\n",
       "      <td>...</td>\n",
       "      <td>0.877544</td>\n",
       "      <td>-0.693832</td>\n",
       "      <td>-0.718311</td>\n",
       "      <td>-0.337108</td>\n",
       "      <td>-0.333333</td>\n",
       "      <td>-0.792406</td>\n",
       "      <td>0.267261</td>\n",
       "      <td>0.0</td>\n",
       "      <td>1.0</td>\n",
       "      <td>1.0</td>\n",
       "    </tr>\n",
       "  </tbody>\n",
       "</table>\n",
       "<p>10 rows × 47 columns</p>\n",
       "</div>"
      ],
      "text/plain": [
       "         0         1         2         3         4         5         6   \\\n",
       "0 -0.838720 -1.383064  0.236899  2.073913 -0.137712 -0.333333 -0.450107   \n",
       "1  0.457527  0.911885 -0.264940 -0.663937 -0.374320 -0.333333 -0.450107   \n",
       "2 -0.825403 -0.429048  1.679742 -0.214737 -0.374320 -0.333333 -0.450107   \n",
       "3  0.457527  0.911885 -0.264940 -0.663937 -0.374320 -0.333333 -0.430653   \n",
       "4 -0.838720 -1.408300 -1.849156  0.134014  2.990974  3.000000 -0.450107   \n",
       "5 -0.546380  0.321139  0.854016 -0.559658 -0.374320 -0.333333 -0.450107   \n",
       "6 -0.838720 -1.352857  0.613278  1.796133 -0.233024 -0.333333 -0.450107   \n",
       "7  1.759635  1.053610 -0.929458 -0.671067 -0.374320 -0.333333  0.794921   \n",
       "8 -0.546380  0.321139  0.854016 -0.559658 -0.374320 -0.333333 -0.450107   \n",
       "9  1.759635  1.053610 -0.929458 -0.671067 -0.374320 -0.333333  2.786479   \n",
       "\n",
       "         7         8         9   ...        37        38        39        40  \\\n",
       "0 -0.681706 -1.395867 -0.527350  ...  0.587494  0.108618 -0.679281 -0.337108   \n",
       "1 -0.507118  0.973160  0.519272  ... -0.687903  1.518582  0.167351 -0.337108   \n",
       "2 -0.681706 -1.008643  1.669504  ...  0.754919 -0.240256 -0.708318 -0.337108   \n",
       "3  0.420283  1.304612 -0.879737  ...  0.816425 -0.410671 -0.714820 -0.337108   \n",
       "4 -0.507118  0.973160  0.519272  ... -1.163526  1.504878  1.227545 -0.334892   \n",
       "5 -0.681706 -1.395867 -0.527350  ... -1.552705 -1.567671  0.609890  2.999866   \n",
       "6 -0.649130  0.260859  1.304240  ... -1.375219  1.142532  2.252076 -0.305218   \n",
       "7  1.767101  0.004302 -1.290659  ...  0.861142 -0.583779 -0.717766 -0.337108   \n",
       "8 -0.507118  0.973160  0.519272  ...  0.881831 -0.778402 -0.718366 -0.337108   \n",
       "9  2.028219 -0.688877 -1.306464  ...  0.877544 -0.693832 -0.718311 -0.337108   \n",
       "\n",
       "         41        42        43   44   45   46  \n",
       "0 -0.333333  0.968496  0.267261  0.0  1.0  1.0  \n",
       "1 -0.333333 -0.792406 -1.069045  0.0  1.0  1.0  \n",
       "2 -0.333333 -0.792406 -2.405351  0.0  1.0  1.0  \n",
       "3 -0.333333 -0.792406  0.267261  0.0  1.0  2.0  \n",
       "4 -0.333333  1.848947  0.267261  0.0  1.0  1.0  \n",
       "5  3.000000  0.968496  0.267261  0.0  1.0  1.0  \n",
       "6 -0.333333  0.968496  0.267261  0.0  1.0  1.0  \n",
       "7 -0.333333 -0.792406  0.267261  0.0  1.0  1.0  \n",
       "8 -0.333333 -0.792406  1.603567  0.0  1.0  2.0  \n",
       "9 -0.333333 -0.792406  0.267261  0.0  1.0  1.0  \n",
       "\n",
       "[10 rows x 47 columns]"
      ]
     },
     "execution_count": 53,
     "metadata": {},
     "output_type": "execute_result"
    }
   ],
   "source": [
    "pd.DataFrame(spline_sample_X)"
   ]
  },
  {
   "cell_type": "code",
   "execution_count": 54,
   "id": "3b79c31f-0116-4af0-889d-3ebb001f994c",
   "metadata": {},
   "outputs": [],
   "source": [
    "spline_wrapper = {}\n",
    "spline_wrapper['spline'] = {}\n",
    "cur_dict = spline_wrapper['spline'] \n",
    "cur_dict['data'] = [X_train, y_train]\n",
    "cur_dict['class'] = LogisticRegression\n",
    "cur_dict['drop'] = []\n",
    "cur_dict['param'] = {'max_iter': 300}\n",
    "cur_dict['scaler'] = spline_scaler"
   ]
  },
  {
   "cell_type": "code",
   "execution_count": 55,
   "id": "7ddb9b5f-b680-405f-85a5-e27b0c241ed1",
   "metadata": {},
   "outputs": [
    {
     "name": "stdout",
     "output_type": "stream",
     "text": [
      "spline ==============\n",
      "0.096 seconds\n"
     ]
    }
   ],
   "source": [
    "spline_result = run_spline(spline_wrapper)"
   ]
  },
  {
   "cell_type": "code",
   "execution_count": 56,
   "id": "55e0869f-0621-4cca-9b8c-ca2229019b16",
   "metadata": {},
   "outputs": [
    {
     "data": {
      "text/html": [
       "<div>\n",
       "<style scoped>\n",
       "    .dataframe tbody tr th:only-of-type {\n",
       "        vertical-align: middle;\n",
       "    }\n",
       "\n",
       "    .dataframe tbody tr th {\n",
       "        vertical-align: top;\n",
       "    }\n",
       "\n",
       "    .dataframe thead th {\n",
       "        text-align: right;\n",
       "    }\n",
       "</style>\n",
       "<table border=\"1\" class=\"dataframe\">\n",
       "  <thead>\n",
       "    <tr style=\"text-align: right;\">\n",
       "      <th></th>\n",
       "      <th>Metric</th>\n",
       "      <th>Average</th>\n",
       "    </tr>\n",
       "  </thead>\n",
       "  <tbody>\n",
       "    <tr>\n",
       "      <th>0</th>\n",
       "      <td>accuracy</td>\n",
       "      <td>0.920</td>\n",
       "    </tr>\n",
       "    <tr>\n",
       "      <th>1</th>\n",
       "      <td>precision</td>\n",
       "      <td>0.803</td>\n",
       "    </tr>\n",
       "    <tr>\n",
       "      <th>2</th>\n",
       "      <td>recall</td>\n",
       "      <td>0.660</td>\n",
       "    </tr>\n",
       "    <tr>\n",
       "      <th>3</th>\n",
       "      <td>f1_score</td>\n",
       "      <td>0.720</td>\n",
       "    </tr>\n",
       "  </tbody>\n",
       "</table>\n",
       "</div>"
      ],
      "text/plain": [
       "      Metric  Average\n",
       "0   accuracy    0.920\n",
       "1  precision    0.803\n",
       "2     recall    0.660\n",
       "3   f1_score    0.720"
      ]
     },
     "execution_count": 56,
     "metadata": {},
     "output_type": "execute_result"
    }
   ],
   "source": [
    "spline_result['spline']"
   ]
  },
  {
   "cell_type": "markdown",
   "id": "331fb3ee-2659-4cd2-9977-80de0b1ec5ce",
   "metadata": {},
   "source": [
    "### 5. Penalty and Solver Comparison"
   ]
  },
  {
   "cell_type": "code",
   "execution_count": 116,
   "id": "9a5a9d09-59a7-4450-a207-2bd88bd4ca40",
   "metadata": {},
   "outputs": [],
   "source": [
    "comp_wrapper = {}"
   ]
  },
  {
   "cell_type": "code",
   "execution_count": 117,
   "id": "c77a079c-c5b6-4ca1-a1fa-cb77ee27f643",
   "metadata": {},
   "outputs": [],
   "source": [
    "comp_wrapper['saga_spline'] = {}    \n",
    "cur_dict = comp_wrapper['saga_spline']\n",
    "cur_dict['data'] = [X_train, y_train]\n",
    "cur_dict['class'] = LogisticRegression\n",
    "cur_dict['drop'] = []\n",
    "cur_dict['param'] = {'solver':'saga', 'max_iter':5000}\n",
    "cur_dict['scaler'] = spline_scaler"
   ]
  },
  {
   "cell_type": "code",
   "execution_count": 118,
   "id": "e20c892b-92cf-42ba-bdac-99eaedb3db4a",
   "metadata": {},
   "outputs": [],
   "source": [
    "comp_wrapper['l1_saga_spline'] = {}    \n",
    "cur_dict = comp_wrapper['l1_saga_spline']\n",
    "cur_dict['data'] = [X_train, y_train]\n",
    "cur_dict['class'] = LogisticRegression\n",
    "cur_dict['drop'] = []\n",
    "cur_dict['param'] = {'penalty':'l1', 'solver':'saga', 'max_iter':5000}\n",
    "cur_dict['scaler'] = spline_scaler"
   ]
  },
  {
   "cell_type": "code",
   "execution_count": 119,
   "id": "1e6f91ea-8fa2-4afe-9546-618f95b75b78",
   "metadata": {},
   "outputs": [
    {
     "name": "stdout",
     "output_type": "stream",
     "text": [
      "saga_spline =========\n",
      "4.634 seconds\n",
      "l1_saga_spline ======\n",
      "4.726 seconds\n"
     ]
    }
   ],
   "source": [
    "comp_results = run_spline(comp_wrapper) # l1_saga_fold3_convergence warning"
   ]
  },
  {
   "cell_type": "code",
   "execution_count": 120,
   "id": "55e4cc70-3c46-482f-adb0-04a0ad7f5e4f",
   "metadata": {},
   "outputs": [
    {
     "data": {
      "text/html": [
       "<div>\n",
       "<style scoped>\n",
       "    .dataframe tbody tr th:only-of-type {\n",
       "        vertical-align: middle;\n",
       "    }\n",
       "\n",
       "    .dataframe tbody tr th {\n",
       "        vertical-align: top;\n",
       "    }\n",
       "\n",
       "    .dataframe thead th {\n",
       "        text-align: right;\n",
       "    }\n",
       "</style>\n",
       "<table border=\"1\" class=\"dataframe\">\n",
       "  <thead>\n",
       "    <tr style=\"text-align: right;\">\n",
       "      <th></th>\n",
       "      <th>saga_spline</th>\n",
       "      <th>l1_saga_spline</th>\n",
       "      <th>best_model</th>\n",
       "    </tr>\n",
       "    <tr>\n",
       "      <th>Metric</th>\n",
       "      <th></th>\n",
       "      <th></th>\n",
       "      <th></th>\n",
       "    </tr>\n",
       "  </thead>\n",
       "  <tbody>\n",
       "    <tr>\n",
       "      <th>accuracy</th>\n",
       "      <td>0.921</td>\n",
       "      <td>0.920</td>\n",
       "      <td>saga_spline</td>\n",
       "    </tr>\n",
       "    <tr>\n",
       "      <th>precision</th>\n",
       "      <td>0.806</td>\n",
       "      <td>0.804</td>\n",
       "      <td>saga_spline</td>\n",
       "    </tr>\n",
       "    <tr>\n",
       "      <th>recall</th>\n",
       "      <td>0.660</td>\n",
       "      <td>0.659</td>\n",
       "      <td>saga_spline</td>\n",
       "    </tr>\n",
       "    <tr>\n",
       "      <th>f1_score</th>\n",
       "      <td>0.722</td>\n",
       "      <td>0.721</td>\n",
       "      <td>saga_spline</td>\n",
       "    </tr>\n",
       "  </tbody>\n",
       "</table>\n",
       "</div>"
      ],
      "text/plain": [
       "           saga_spline  l1_saga_spline   best_model\n",
       "Metric                                             \n",
       "accuracy         0.921           0.920  saga_spline\n",
       "precision        0.806           0.804  saga_spline\n",
       "recall           0.660           0.659  saga_spline\n",
       "f1_score         0.722           0.721  saga_spline"
      ]
     },
     "execution_count": 120,
     "metadata": {},
     "output_type": "execute_result"
    }
   ],
   "source": [
    "compare_models(comp_results)"
   ]
  },
  {
   "cell_type": "markdown",
   "id": "3c0e2439-9426-41c7-8b2d-ef0e58c4c56f",
   "metadata": {},
   "source": [
    "### 5. Handling Class Imbalance"
   ]
  },
  {
   "cell_type": "markdown",
   "id": "c19c4203-bce2-4d0c-afdf-f1e398ec931a",
   "metadata": {},
   "source": [
    "#### 5.1 SMOTE"
   ]
  },
  {
   "cell_type": "code",
   "execution_count": 62,
   "id": "cce33ae6-684e-4db3-85cd-46c3ab8766c5",
   "metadata": {},
   "outputs": [
    {
     "data": {
      "text/plain": [
       "{'fit_time': array([0.05360794, 0.05216193, 0.05309272, 0.05246997, 0.05350494]),\n",
       " 'score_time': array([0.00110531, 0.0019989 , 0.00121713, 0.00101495, 0.00100613]),\n",
       " 'test_score': array([0.83168317, 0.82630273, 0.88337469, 0.85111663, 0.85111663])}"
      ]
     },
     "execution_count": 62,
     "metadata": {},
     "output_type": "execute_result"
    }
   ],
   "source": [
    "# Pipeline-Wrapped Code for Reference\n",
    "from imblearn.pipeline import Pipeline\n",
    "from imblearn.over_sampling import SMOTENC\n",
    "from sklearn.model_selection import cross_validate as sk_cv\n",
    "\n",
    "pipe = Pipeline(steps = [('smote', SMOTENC(categorical_features, random_state=42)), \n",
    "                      ('base_scaler', base_scaler),\n",
    "                      ('logisticregression', LogisticRegression())])\n",
    "pipe.fit(X_train, y_train)\n",
    "\n",
    "# cross validation using intra-fold sampling\n",
    "sk_cv(pipe, X_train, y_train)"
   ]
  },
  {
   "cell_type": "code",
   "execution_count": 63,
   "id": "b6abc708-feb2-419d-9dd1-364f66e8aa72",
   "metadata": {},
   "outputs": [],
   "source": [
    "from imblearn.over_sampling import SMOTE\n",
    "from imblearn.over_sampling import SMOTENC"
   ]
  },
  {
   "cell_type": "code",
   "execution_count": 64,
   "id": "3dae3758-4a38-4cdb-be3d-7826a974ea6c",
   "metadata": {},
   "outputs": [
    {
     "data": {
      "text/plain": [
       "0.84871877"
      ]
     },
     "execution_count": 64,
     "metadata": {},
     "output_type": "execute_result"
    }
   ],
   "source": [
    "np.mean(np.array([0.83168317, 0.82630273, 0.88337469, 0.85111663, 0.85111663]))"
   ]
  },
  {
   "cell_type": "code",
   "execution_count": 65,
   "id": "2913640a-440c-4501-9781-bc569bc9971c",
   "metadata": {},
   "outputs": [],
   "source": [
    "def smote_cross_validate(data, model_class, model_params, drops, scaler):\n",
    "    result_dict = {} \n",
    "    \n",
    "    metrics = ['accuracy', 'precision', 'recall', 'f1_score']\n",
    "    for m in metrics:\n",
    "        result_dict[m] = []\n",
    "\n",
    "    X_train, y_train = data\n",
    "    kf = KFold(n_splits=5, shuffle=True, random_state=42)\n",
    "    \n",
    "    # removing correlated columns\n",
    "    X_train = X_train.drop(columns=drops, axis=1)\n",
    "\n",
    "    start_time = time.time()\n",
    "    \n",
    "    for fold in kf.split(X_train): \n",
    "        \n",
    "        trn_idx, val_idx = fold\n",
    "        X_trn, X_val = X_train.iloc[trn_idx], X_train.iloc[val_idx] # analysis set \n",
    "        y_trn, y_val = y_train.iloc[trn_idx], y_train.iloc[val_idx] # assessment set\n",
    "\n",
    "        # smote applying on only training set\n",
    "        smote_nc = SMOTENC(categorical_features, random_state=42)\n",
    "        X_trn, y_trn = smote_nc.fit_resample(X_trn, y_trn)\n",
    "        \n",
    "        # scaling\n",
    "        # previous parameters not retained\n",
    "        X_trn = scaler.fit_transform(X_trn) \n",
    "        X_val = scaler.transform(X_val) \n",
    "\n",
    "        # model fitting\n",
    "        model = model_class(**model_params)\n",
    "        model.fit(X_trn, y_trn)\n",
    "        \n",
    "        # model evaluation\n",
    "        y_pred = model.predict(X_val)\n",
    "        conf_mat = confusion_matrix(y_val, y_pred)\n",
    "        fold_result = matrix_to_metrics(conf_mat)\n",
    "        for i, val in enumerate(fold_result):\n",
    "            result_dict[metrics[i]].append(round(fold_result[i], 4))\n",
    "            \n",
    "    end_time = time.time() \n",
    "    elapsed_time = end_time - start_time\n",
    "    readable_time = f\"{elapsed_time:.3f} seconds\"\n",
    "    print(readable_time)\n",
    "\n",
    "    for key in result_dict:\n",
    "        result_dict[key].append({'average': round(sum(result_dict[key]) / len(result_dict[key]), 3)})\n",
    "    \n",
    "    return result_dict"
   ]
  },
  {
   "cell_type": "code",
   "execution_count": 66,
   "id": "722bcf0a-4a34-4f1c-8307-513b5e0e3d58",
   "metadata": {},
   "outputs": [],
   "source": [
    "def run_smote(model_dict):\n",
    "    result_dict = {}\n",
    "    for name in model_dict:\n",
    "        print(name, '='* (20-len(name)))\n",
    "        data = model_dict[name]['data']\n",
    "        model_class = model_dict[name]['class']\n",
    "        model_params= model_dict[name]['param']\n",
    "        drops = model_dict[name]['drop']\n",
    "        scaler = model_dict[name]['scaler']\n",
    "        single_result = smote_cross_validate(data, model_class, model_params, drops, scaler)\n",
    "        result_dict[name] = get_summary(single_result)   \n",
    "    return result_dict"
   ]
  },
  {
   "cell_type": "code",
   "execution_count": 81,
   "id": "4653281d-1321-457c-895c-71b29529b1ee",
   "metadata": {},
   "outputs": [],
   "source": [
    "smote_wrapper = {'smote': {}}\n",
    "cur_dict = smote_wrapper['smote']\n",
    "cur_dict['data'] = [X_train, y_train]\n",
    "cur_dict['class'] = LogisticRegression\n",
    "cur_dict['param'] = {'solver':'saga', 'max_iter':5000}\n",
    "cur_dict['drop'] = []\n",
    "cur_dict['scaler'] = base_scaler "
   ]
  },
  {
   "cell_type": "code",
   "execution_count": 82,
   "id": "165d1c73-97fd-483e-9525-42cee05ab7dc",
   "metadata": {},
   "outputs": [],
   "source": [
    "smote_wrapper['smote_spline'] = {}\n",
    "cur_dict = smote_wrapper['smote_spline']\n",
    "cur_dict['data'] = [X_train, y_train]\n",
    "cur_dict['class'] = LogisticRegression\n",
    "cur_dict['param'] = {'solver':'saga', 'max_iter':5000}\n",
    "cur_dict['drop'] = []\n",
    "cur_dict['scaler'] = spline_scaler"
   ]
  },
  {
   "cell_type": "code",
   "execution_count": 83,
   "id": "86c019db-7574-44ab-b440-69082d04a1e2",
   "metadata": {},
   "outputs": [
    {
     "name": "stdout",
     "output_type": "stream",
     "text": [
      "smote ===============\n",
      "0.442 seconds\n",
      "smote_spline ========\n",
      "5.992 seconds\n"
     ]
    },
    {
     "data": {
      "text/html": [
       "<div>\n",
       "<style scoped>\n",
       "    .dataframe tbody tr th:only-of-type {\n",
       "        vertical-align: middle;\n",
       "    }\n",
       "\n",
       "    .dataframe tbody tr th {\n",
       "        vertical-align: top;\n",
       "    }\n",
       "\n",
       "    .dataframe thead th {\n",
       "        text-align: right;\n",
       "    }\n",
       "</style>\n",
       "<table border=\"1\" class=\"dataframe\">\n",
       "  <thead>\n",
       "    <tr style=\"text-align: right;\">\n",
       "      <th></th>\n",
       "      <th>smote</th>\n",
       "      <th>smote_spline</th>\n",
       "      <th>best_model</th>\n",
       "    </tr>\n",
       "    <tr>\n",
       "      <th>Metric</th>\n",
       "      <th></th>\n",
       "      <th></th>\n",
       "      <th></th>\n",
       "    </tr>\n",
       "  </thead>\n",
       "  <tbody>\n",
       "    <tr>\n",
       "      <th>accuracy</th>\n",
       "      <td>0.844</td>\n",
       "      <td>0.871</td>\n",
       "      <td>smote_spline</td>\n",
       "    </tr>\n",
       "    <tr>\n",
       "      <th>precision</th>\n",
       "      <td>0.509</td>\n",
       "      <td>0.561</td>\n",
       "      <td>smote_spline</td>\n",
       "    </tr>\n",
       "    <tr>\n",
       "      <th>recall</th>\n",
       "      <td>0.852</td>\n",
       "      <td>0.870</td>\n",
       "      <td>smote_spline</td>\n",
       "    </tr>\n",
       "    <tr>\n",
       "      <th>f1_score</th>\n",
       "      <td>0.634</td>\n",
       "      <td>0.681</td>\n",
       "      <td>smote_spline</td>\n",
       "    </tr>\n",
       "  </tbody>\n",
       "</table>\n",
       "</div>"
      ],
      "text/plain": [
       "           smote  smote_spline    best_model\n",
       "Metric                                      \n",
       "accuracy   0.844         0.871  smote_spline\n",
       "precision  0.509         0.561  smote_spline\n",
       "recall     0.852         0.870  smote_spline\n",
       "f1_score   0.634         0.681  smote_spline"
      ]
     },
     "execution_count": 83,
     "metadata": {},
     "output_type": "execute_result"
    }
   ],
   "source": [
    "smote_result = run_smote(smote_wrapper) \n",
    "compare_models(smote_result)"
   ]
  },
  {
   "cell_type": "markdown",
   "id": "9a4c7a3e-defc-42cf-9300-16282a45eec0",
   "metadata": {},
   "source": [
    "#### 5.2 Model Weight Adjustment"
   ]
  },
  {
   "cell_type": "code",
   "execution_count": 70,
   "id": "ad5c037d-393c-47a0-9655-e05b35fa5747",
   "metadata": {},
   "outputs": [],
   "source": [
    "weight_wrapper = {}\n",
    "weight_wrapper['weight'] = {}\n",
    "cur_dict = weight_wrapper['weight'] \n",
    "cur_dict['data'] = [X_train, y_train]\n",
    "cur_dict['class'] = LogisticRegression\n",
    "cur_dict['drop'] = []\n",
    "cur_dict['param'] = {'solver':'saga', 'max_iter':5000, 'class_weight':'balanced'}\n",
    "binaries = ['Complains', 'Tariff Plan', 'Status']\n",
    "cur_dict['scaler'] = base_scaler"
   ]
  },
  {
   "cell_type": "code",
   "execution_count": 71,
   "id": "6190a8f6-3d21-4a01-9d3d-52203265fda4",
   "metadata": {},
   "outputs": [],
   "source": [
    "weight_smote_wrapper = {}\n",
    "weight_smote_wrapper['smote'] = {}\n",
    "cur_dict = weight_smote_wrapper['smote'] \n",
    "cur_dict['data'] = [X_train, y_train]\n",
    "cur_dict['class'] = LogisticRegression\n",
    "cur_dict['drop'] = []\n",
    "cur_dict['param'] = {'solver':'saga', 'max_iter':5000, 'class_weight':'balanced'}\n",
    "binaries = ['Complains', 'Tariff Plan', 'Status']\n",
    "cur_dict['scaler'] = base_scaler"
   ]
  },
  {
   "cell_type": "code",
   "execution_count": 72,
   "id": "7d90ced3-aebb-4f05-af2f-a1083e0ebc08",
   "metadata": {},
   "outputs": [
    {
     "name": "stdout",
     "output_type": "stream",
     "text": [
      "weight ==============\n",
      "0.105 seconds\n"
     ]
    },
    {
     "data": {
      "text/html": [
       "<div>\n",
       "<style scoped>\n",
       "    .dataframe tbody tr th:only-of-type {\n",
       "        vertical-align: middle;\n",
       "    }\n",
       "\n",
       "    .dataframe tbody tr th {\n",
       "        vertical-align: top;\n",
       "    }\n",
       "\n",
       "    .dataframe thead th {\n",
       "        text-align: right;\n",
       "    }\n",
       "</style>\n",
       "<table border=\"1\" class=\"dataframe\">\n",
       "  <thead>\n",
       "    <tr style=\"text-align: right;\">\n",
       "      <th></th>\n",
       "      <th>Metric</th>\n",
       "      <th>Average</th>\n",
       "    </tr>\n",
       "  </thead>\n",
       "  <tbody>\n",
       "    <tr>\n",
       "      <th>0</th>\n",
       "      <td>accuracy</td>\n",
       "      <td>0.844</td>\n",
       "    </tr>\n",
       "    <tr>\n",
       "      <th>1</th>\n",
       "      <td>precision</td>\n",
       "      <td>0.506</td>\n",
       "    </tr>\n",
       "    <tr>\n",
       "      <th>2</th>\n",
       "      <td>recall</td>\n",
       "      <td>0.888</td>\n",
       "    </tr>\n",
       "    <tr>\n",
       "      <th>3</th>\n",
       "      <td>f1_score</td>\n",
       "      <td>0.643</td>\n",
       "    </tr>\n",
       "  </tbody>\n",
       "</table>\n",
       "</div>"
      ],
      "text/plain": [
       "      Metric  Average\n",
       "0   accuracy    0.844\n",
       "1  precision    0.506\n",
       "2     recall    0.888\n",
       "3   f1_score    0.643"
      ]
     },
     "execution_count": 72,
     "metadata": {},
     "output_type": "execute_result"
    }
   ],
   "source": [
    "weight_only = run_lr(weight_wrapper)\n",
    "weight_only['weight']"
   ]
  },
  {
   "cell_type": "code",
   "execution_count": 76,
   "id": "9b5799d4-7180-4e10-851e-bf38f3548048",
   "metadata": {},
   "outputs": [
    {
     "name": "stdout",
     "output_type": "stream",
     "text": [
      "smote ===============\n",
      "0.454 seconds\n"
     ]
    },
    {
     "data": {
      "text/html": [
       "<div>\n",
       "<style scoped>\n",
       "    .dataframe tbody tr th:only-of-type {\n",
       "        vertical-align: middle;\n",
       "    }\n",
       "\n",
       "    .dataframe tbody tr th {\n",
       "        vertical-align: top;\n",
       "    }\n",
       "\n",
       "    .dataframe thead th {\n",
       "        text-align: right;\n",
       "    }\n",
       "</style>\n",
       "<table border=\"1\" class=\"dataframe\">\n",
       "  <thead>\n",
       "    <tr style=\"text-align: right;\">\n",
       "      <th></th>\n",
       "      <th>Metric</th>\n",
       "      <th>Average</th>\n",
       "    </tr>\n",
       "  </thead>\n",
       "  <tbody>\n",
       "    <tr>\n",
       "      <th>0</th>\n",
       "      <td>accuracy</td>\n",
       "      <td>0.844</td>\n",
       "    </tr>\n",
       "    <tr>\n",
       "      <th>1</th>\n",
       "      <td>precision</td>\n",
       "      <td>0.509</td>\n",
       "    </tr>\n",
       "    <tr>\n",
       "      <th>2</th>\n",
       "      <td>recall</td>\n",
       "      <td>0.852</td>\n",
       "    </tr>\n",
       "    <tr>\n",
       "      <th>3</th>\n",
       "      <td>f1_score</td>\n",
       "      <td>0.634</td>\n",
       "    </tr>\n",
       "  </tbody>\n",
       "</table>\n",
       "</div>"
      ],
      "text/plain": [
       "      Metric  Average\n",
       "0   accuracy    0.844\n",
       "1  precision    0.509\n",
       "2     recall    0.852\n",
       "3   f1_score    0.634"
      ]
     },
     "execution_count": 76,
     "metadata": {},
     "output_type": "execute_result"
    }
   ],
   "source": [
    "weight_smote = run_smote(weight_smote_wrapper)\n",
    "weight_smote['smote']"
   ]
  },
  {
   "cell_type": "markdown",
   "id": "7a517b62-b587-4240-ba69-2277610444e5",
   "metadata": {},
   "source": [
    "### 6. Final Results "
   ]
  },
  {
   "cell_type": "markdown",
   "id": "3fb503f9-3aab-4237-aee2-859771f06126",
   "metadata": {},
   "source": [
    "#### 6.1 Summary of CV Results"
   ]
  },
  {
   "cell_type": "code",
   "execution_count": 85,
   "id": "420404b0-12af-4973-a321-b65dfdae866d",
   "metadata": {},
   "outputs": [
    {
     "data": {
      "text/html": [
       "<div>\n",
       "<style scoped>\n",
       "    .dataframe tbody tr th:only-of-type {\n",
       "        vertical-align: middle;\n",
       "    }\n",
       "\n",
       "    .dataframe tbody tr th {\n",
       "        vertical-align: top;\n",
       "    }\n",
       "\n",
       "    .dataframe thead th {\n",
       "        text-align: right;\n",
       "    }\n",
       "</style>\n",
       "<table border=\"1\" class=\"dataframe\">\n",
       "  <thead>\n",
       "    <tr style=\"text-align: right;\">\n",
       "      <th></th>\n",
       "      <th>drop_0cols</th>\n",
       "      <th>drop_1cols</th>\n",
       "      <th>drop_2cols</th>\n",
       "    </tr>\n",
       "    <tr>\n",
       "      <th>Metric</th>\n",
       "      <th></th>\n",
       "      <th></th>\n",
       "      <th></th>\n",
       "    </tr>\n",
       "  </thead>\n",
       "  <tbody>\n",
       "    <tr>\n",
       "      <th>accuracy</th>\n",
       "      <td>0.891</td>\n",
       "      <td>0.889</td>\n",
       "      <td>0.889</td>\n",
       "    </tr>\n",
       "    <tr>\n",
       "      <th>precision</th>\n",
       "      <td>0.756</td>\n",
       "      <td>0.755</td>\n",
       "      <td>0.756</td>\n",
       "    </tr>\n",
       "    <tr>\n",
       "      <th>recall</th>\n",
       "      <td>0.455</td>\n",
       "      <td>0.443</td>\n",
       "      <td>0.443</td>\n",
       "    </tr>\n",
       "    <tr>\n",
       "      <th>f1_score</th>\n",
       "      <td>0.562</td>\n",
       "      <td>0.550</td>\n",
       "      <td>0.551</td>\n",
       "    </tr>\n",
       "  </tbody>\n",
       "</table>\n",
       "</div>"
      ],
      "text/plain": [
       "           drop_0cols  drop_1cols  drop_2cols\n",
       "Metric                                       \n",
       "accuracy        0.891       0.889       0.889\n",
       "precision       0.756       0.755       0.756\n",
       "recall          0.455       0.443       0.443\n",
       "f1_score        0.562       0.550       0.551"
      ]
     },
     "execution_count": 85,
     "metadata": {},
     "output_type": "execute_result"
    }
   ],
   "source": [
    "drops = compare_models(drop_l2_result).drop(columns=['best_model'])\n",
    "drops"
   ]
  },
  {
   "cell_type": "code",
   "execution_count": 121,
   "id": "c792b3fd-6869-4fde-8e7b-3ca4d2bb1a7e",
   "metadata": {},
   "outputs": [
    {
     "data": {
      "text/html": [
       "<div>\n",
       "<style scoped>\n",
       "    .dataframe tbody tr th:only-of-type {\n",
       "        vertical-align: middle;\n",
       "    }\n",
       "\n",
       "    .dataframe tbody tr th {\n",
       "        vertical-align: top;\n",
       "    }\n",
       "\n",
       "    .dataframe thead th {\n",
       "        text-align: right;\n",
       "    }\n",
       "</style>\n",
       "<table border=\"1\" class=\"dataframe\">\n",
       "  <thead>\n",
       "    <tr style=\"text-align: right;\">\n",
       "      <th></th>\n",
       "      <th>saga_spline</th>\n",
       "      <th>l1_saga_spline</th>\n",
       "    </tr>\n",
       "    <tr>\n",
       "      <th>Metric</th>\n",
       "      <th></th>\n",
       "      <th></th>\n",
       "    </tr>\n",
       "  </thead>\n",
       "  <tbody>\n",
       "    <tr>\n",
       "      <th>accuracy</th>\n",
       "      <td>0.921</td>\n",
       "      <td>0.920</td>\n",
       "    </tr>\n",
       "    <tr>\n",
       "      <th>precision</th>\n",
       "      <td>0.806</td>\n",
       "      <td>0.804</td>\n",
       "    </tr>\n",
       "    <tr>\n",
       "      <th>recall</th>\n",
       "      <td>0.660</td>\n",
       "      <td>0.659</td>\n",
       "    </tr>\n",
       "    <tr>\n",
       "      <th>f1_score</th>\n",
       "      <td>0.722</td>\n",
       "      <td>0.721</td>\n",
       "    </tr>\n",
       "  </tbody>\n",
       "</table>\n",
       "</div>"
      ],
      "text/plain": [
       "           saga_spline  l1_saga_spline\n",
       "Metric                                \n",
       "accuracy         0.921           0.920\n",
       "precision        0.806           0.804\n",
       "recall           0.660           0.659\n",
       "f1_score         0.722           0.721"
      ]
     },
     "execution_count": 121,
     "metadata": {},
     "output_type": "execute_result"
    }
   ],
   "source": [
    "model_adj = compare_models(comp_results).drop(columns=['best_model'])\n",
    "model_adj"
   ]
  },
  {
   "cell_type": "code",
   "execution_count": 87,
   "id": "b13c5d37-869a-4d3e-a674-3e06781e2e9f",
   "metadata": {},
   "outputs": [
    {
     "data": {
      "text/html": [
       "<div>\n",
       "<style scoped>\n",
       "    .dataframe tbody tr th:only-of-type {\n",
       "        vertical-align: middle;\n",
       "    }\n",
       "\n",
       "    .dataframe tbody tr th {\n",
       "        vertical-align: top;\n",
       "    }\n",
       "\n",
       "    .dataframe thead th {\n",
       "        text-align: right;\n",
       "    }\n",
       "</style>\n",
       "<table border=\"1\" class=\"dataframe\">\n",
       "  <thead>\n",
       "    <tr style=\"text-align: right;\">\n",
       "      <th></th>\n",
       "      <th>smote</th>\n",
       "      <th>smote_spline</th>\n",
       "    </tr>\n",
       "    <tr>\n",
       "      <th>Metric</th>\n",
       "      <th></th>\n",
       "      <th></th>\n",
       "    </tr>\n",
       "  </thead>\n",
       "  <tbody>\n",
       "    <tr>\n",
       "      <th>accuracy</th>\n",
       "      <td>0.844</td>\n",
       "      <td>0.871</td>\n",
       "    </tr>\n",
       "    <tr>\n",
       "      <th>precision</th>\n",
       "      <td>0.509</td>\n",
       "      <td>0.561</td>\n",
       "    </tr>\n",
       "    <tr>\n",
       "      <th>recall</th>\n",
       "      <td>0.852</td>\n",
       "      <td>0.870</td>\n",
       "    </tr>\n",
       "    <tr>\n",
       "      <th>f1_score</th>\n",
       "      <td>0.634</td>\n",
       "      <td>0.681</td>\n",
       "    </tr>\n",
       "  </tbody>\n",
       "</table>\n",
       "</div>"
      ],
      "text/plain": [
       "           smote  smote_spline\n",
       "Metric                        \n",
       "accuracy   0.844         0.871\n",
       "precision  0.509         0.561\n",
       "recall     0.852         0.870\n",
       "f1_score   0.634         0.681"
      ]
     },
     "execution_count": 87,
     "metadata": {},
     "output_type": "execute_result"
    }
   ],
   "source": [
    "smotes = compare_models(smote_result).drop(columns=['best_model'])\n",
    "smotes"
   ]
  },
  {
   "cell_type": "code",
   "execution_count": 96,
   "id": "c7972254-3fe3-4681-ad7f-4616a1bff457",
   "metadata": {},
   "outputs": [],
   "source": [
    "df_dict = {'vanilla': vanilla_lr['vanilla'], \n",
    "          'pca': pca_result['pca'],\n",
    "          'spline': spline_result['spline'], \n",
    "         'weight': weight_only['weight'], 'smote_weight': weight_smote['smote']}"
   ]
  },
  {
   "cell_type": "code",
   "execution_count": 97,
   "id": "5de927a7-d039-45ac-bbb2-87c4d4cb2ed8",
   "metadata": {},
   "outputs": [],
   "source": [
    "merged_df = pd.DataFrame()\n",
    "for key, df in df_dict.items():\n",
    "    df_renamed = df.rename(columns={'Average': key})\n",
    "    if merged_df.empty:\n",
    "        merged_df = df_renamed\n",
    "    else:\n",
    "        merged_df = pd.merge(merged_df, df_renamed, on='Metric')"
   ]
  },
  {
   "cell_type": "code",
   "execution_count": 98,
   "id": "702fbc5b-7fbe-41f7-8a9b-0a02386fe5c2",
   "metadata": {},
   "outputs": [
    {
     "data": {
      "text/html": [
       "<div>\n",
       "<style scoped>\n",
       "    .dataframe tbody tr th:only-of-type {\n",
       "        vertical-align: middle;\n",
       "    }\n",
       "\n",
       "    .dataframe tbody tr th {\n",
       "        vertical-align: top;\n",
       "    }\n",
       "\n",
       "    .dataframe thead th {\n",
       "        text-align: right;\n",
       "    }\n",
       "</style>\n",
       "<table border=\"1\" class=\"dataframe\">\n",
       "  <thead>\n",
       "    <tr style=\"text-align: right;\">\n",
       "      <th></th>\n",
       "      <th>Metric</th>\n",
       "      <th>vanilla</th>\n",
       "      <th>pca</th>\n",
       "      <th>spline</th>\n",
       "      <th>weight</th>\n",
       "      <th>smote_weight</th>\n",
       "    </tr>\n",
       "  </thead>\n",
       "  <tbody>\n",
       "    <tr>\n",
       "      <th>0</th>\n",
       "      <td>accuracy</td>\n",
       "      <td>0.891</td>\n",
       "      <td>0.890</td>\n",
       "      <td>0.920</td>\n",
       "      <td>0.844</td>\n",
       "      <td>0.844</td>\n",
       "    </tr>\n",
       "    <tr>\n",
       "      <th>1</th>\n",
       "      <td>precision</td>\n",
       "      <td>0.756</td>\n",
       "      <td>0.759</td>\n",
       "      <td>0.803</td>\n",
       "      <td>0.506</td>\n",
       "      <td>0.509</td>\n",
       "    </tr>\n",
       "    <tr>\n",
       "      <th>2</th>\n",
       "      <td>recall</td>\n",
       "      <td>0.455</td>\n",
       "      <td>0.452</td>\n",
       "      <td>0.660</td>\n",
       "      <td>0.888</td>\n",
       "      <td>0.852</td>\n",
       "    </tr>\n",
       "    <tr>\n",
       "      <th>3</th>\n",
       "      <td>f1_score</td>\n",
       "      <td>0.562</td>\n",
       "      <td>0.560</td>\n",
       "      <td>0.720</td>\n",
       "      <td>0.643</td>\n",
       "      <td>0.634</td>\n",
       "    </tr>\n",
       "  </tbody>\n",
       "</table>\n",
       "</div>"
      ],
      "text/plain": [
       "      Metric  vanilla    pca  spline  weight  smote_weight\n",
       "0   accuracy    0.891  0.890   0.920   0.844         0.844\n",
       "1  precision    0.756  0.759   0.803   0.506         0.509\n",
       "2     recall    0.455  0.452   0.660   0.888         0.852\n",
       "3   f1_score    0.562  0.560   0.720   0.643         0.634"
      ]
     },
     "execution_count": 98,
     "metadata": {},
     "output_type": "execute_result"
    }
   ],
   "source": [
    "merged_df"
   ]
  },
  {
   "cell_type": "code",
   "execution_count": 91,
   "id": "8749dec1-4d0e-4e0e-9693-ac511b66325d",
   "metadata": {},
   "outputs": [
    {
     "data": {
      "text/html": [
       "<div>\n",
       "<style scoped>\n",
       "    .dataframe tbody tr th:only-of-type {\n",
       "        vertical-align: middle;\n",
       "    }\n",
       "\n",
       "    .dataframe tbody tr th {\n",
       "        vertical-align: top;\n",
       "    }\n",
       "\n",
       "    .dataframe thead th {\n",
       "        text-align: right;\n",
       "    }\n",
       "</style>\n",
       "<table border=\"1\" class=\"dataframe\">\n",
       "  <thead>\n",
       "    <tr style=\"text-align: right;\">\n",
       "      <th></th>\n",
       "      <th>Metric</th>\n",
       "      <th>Average</th>\n",
       "    </tr>\n",
       "  </thead>\n",
       "  <tbody>\n",
       "    <tr>\n",
       "      <th>0</th>\n",
       "      <td>accuracy</td>\n",
       "      <td>0.891</td>\n",
       "    </tr>\n",
       "    <tr>\n",
       "      <th>1</th>\n",
       "      <td>precision</td>\n",
       "      <td>0.756</td>\n",
       "    </tr>\n",
       "    <tr>\n",
       "      <th>2</th>\n",
       "      <td>recall</td>\n",
       "      <td>0.455</td>\n",
       "    </tr>\n",
       "    <tr>\n",
       "      <th>3</th>\n",
       "      <td>f1_score</td>\n",
       "      <td>0.562</td>\n",
       "    </tr>\n",
       "  </tbody>\n",
       "</table>\n",
       "</div>"
      ],
      "text/plain": [
       "      Metric  Average\n",
       "0   accuracy    0.891\n",
       "1  precision    0.756\n",
       "2     recall    0.455\n",
       "3   f1_score    0.562"
      ]
     },
     "execution_count": 91,
     "metadata": {},
     "output_type": "execute_result"
    }
   ],
   "source": [
    "merged_df"
   ]
  },
  {
   "cell_type": "code",
   "execution_count": 122,
   "id": "0af0f8e8-a62a-48f9-a46b-7b7e4fd8915a",
   "metadata": {},
   "outputs": [],
   "source": [
    "from functools import reduce\n",
    "\n",
    "dfs = [merged_df, drops, model_adj, smotes]  # 합치려는 데이터프레임 리스트\n",
    "merged_df_final = reduce(lambda left, right: pd.merge(left, right, on='Metric'), dfs)"
   ]
  },
  {
   "cell_type": "code",
   "execution_count": 123,
   "id": "1531a0ac-5500-4c78-b7a9-a62e87937be2",
   "metadata": {},
   "outputs": [],
   "source": [
    "merged_df_final.set_index('Metric', inplace=True)\n",
    "merged_df_final['best_model'] = merged_df_final.idxmax(axis=1)"
   ]
  },
  {
   "cell_type": "code",
   "execution_count": 124,
   "id": "cfc6a042-4fc9-40a5-a80c-7f8832ba80ea",
   "metadata": {},
   "outputs": [
    {
     "data": {
      "text/html": [
       "<div>\n",
       "<style scoped>\n",
       "    .dataframe tbody tr th:only-of-type {\n",
       "        vertical-align: middle;\n",
       "    }\n",
       "\n",
       "    .dataframe tbody tr th {\n",
       "        vertical-align: top;\n",
       "    }\n",
       "\n",
       "    .dataframe thead th {\n",
       "        text-align: right;\n",
       "    }\n",
       "</style>\n",
       "<table border=\"1\" class=\"dataframe\">\n",
       "  <thead>\n",
       "    <tr style=\"text-align: right;\">\n",
       "      <th></th>\n",
       "      <th>vanilla</th>\n",
       "      <th>pca</th>\n",
       "      <th>spline</th>\n",
       "      <th>weight</th>\n",
       "      <th>smote_weight</th>\n",
       "      <th>drop_0cols</th>\n",
       "      <th>drop_1cols</th>\n",
       "      <th>drop_2cols</th>\n",
       "      <th>saga_spline</th>\n",
       "      <th>l1_saga_spline</th>\n",
       "      <th>smote</th>\n",
       "      <th>smote_spline</th>\n",
       "      <th>best_model</th>\n",
       "    </tr>\n",
       "    <tr>\n",
       "      <th>Metric</th>\n",
       "      <th></th>\n",
       "      <th></th>\n",
       "      <th></th>\n",
       "      <th></th>\n",
       "      <th></th>\n",
       "      <th></th>\n",
       "      <th></th>\n",
       "      <th></th>\n",
       "      <th></th>\n",
       "      <th></th>\n",
       "      <th></th>\n",
       "      <th></th>\n",
       "      <th></th>\n",
       "    </tr>\n",
       "  </thead>\n",
       "  <tbody>\n",
       "    <tr>\n",
       "      <th>accuracy</th>\n",
       "      <td>0.891</td>\n",
       "      <td>0.890</td>\n",
       "      <td>0.920</td>\n",
       "      <td>0.844</td>\n",
       "      <td>0.844</td>\n",
       "      <td>0.891</td>\n",
       "      <td>0.889</td>\n",
       "      <td>0.889</td>\n",
       "      <td>0.921</td>\n",
       "      <td>0.920</td>\n",
       "      <td>0.844</td>\n",
       "      <td>0.871</td>\n",
       "      <td>saga_spline</td>\n",
       "    </tr>\n",
       "    <tr>\n",
       "      <th>precision</th>\n",
       "      <td>0.756</td>\n",
       "      <td>0.759</td>\n",
       "      <td>0.803</td>\n",
       "      <td>0.506</td>\n",
       "      <td>0.509</td>\n",
       "      <td>0.756</td>\n",
       "      <td>0.755</td>\n",
       "      <td>0.756</td>\n",
       "      <td>0.806</td>\n",
       "      <td>0.804</td>\n",
       "      <td>0.509</td>\n",
       "      <td>0.561</td>\n",
       "      <td>saga_spline</td>\n",
       "    </tr>\n",
       "    <tr>\n",
       "      <th>recall</th>\n",
       "      <td>0.455</td>\n",
       "      <td>0.452</td>\n",
       "      <td>0.660</td>\n",
       "      <td>0.888</td>\n",
       "      <td>0.852</td>\n",
       "      <td>0.455</td>\n",
       "      <td>0.443</td>\n",
       "      <td>0.443</td>\n",
       "      <td>0.660</td>\n",
       "      <td>0.659</td>\n",
       "      <td>0.852</td>\n",
       "      <td>0.870</td>\n",
       "      <td>weight</td>\n",
       "    </tr>\n",
       "    <tr>\n",
       "      <th>f1_score</th>\n",
       "      <td>0.562</td>\n",
       "      <td>0.560</td>\n",
       "      <td>0.720</td>\n",
       "      <td>0.643</td>\n",
       "      <td>0.634</td>\n",
       "      <td>0.562</td>\n",
       "      <td>0.550</td>\n",
       "      <td>0.551</td>\n",
       "      <td>0.722</td>\n",
       "      <td>0.721</td>\n",
       "      <td>0.634</td>\n",
       "      <td>0.681</td>\n",
       "      <td>saga_spline</td>\n",
       "    </tr>\n",
       "  </tbody>\n",
       "</table>\n",
       "</div>"
      ],
      "text/plain": [
       "           vanilla    pca  spline  weight  smote_weight  drop_0cols  \\\n",
       "Metric                                                                \n",
       "accuracy     0.891  0.890   0.920   0.844         0.844       0.891   \n",
       "precision    0.756  0.759   0.803   0.506         0.509       0.756   \n",
       "recall       0.455  0.452   0.660   0.888         0.852       0.455   \n",
       "f1_score     0.562  0.560   0.720   0.643         0.634       0.562   \n",
       "\n",
       "           drop_1cols  drop_2cols  saga_spline  l1_saga_spline  smote  \\\n",
       "Metric                                                                  \n",
       "accuracy        0.889       0.889        0.921           0.920  0.844   \n",
       "precision       0.755       0.756        0.806           0.804  0.509   \n",
       "recall          0.443       0.443        0.660           0.659  0.852   \n",
       "f1_score        0.550       0.551        0.722           0.721  0.634   \n",
       "\n",
       "           smote_spline   best_model  \n",
       "Metric                                \n",
       "accuracy          0.871  saga_spline  \n",
       "precision         0.561  saga_spline  \n",
       "recall            0.870       weight  \n",
       "f1_score          0.681  saga_spline  "
      ]
     },
     "execution_count": 124,
     "metadata": {},
     "output_type": "execute_result"
    }
   ],
   "source": [
    "merged_df_final"
   ]
  },
  {
   "cell_type": "markdown",
   "id": "154ef6c0-e16a-4674-9a86-b91e6a3fa06a",
   "metadata": {},
   "source": [
    "#### 6.2 Test Set Logistic Regression Results"
   ]
  },
  {
   "cell_type": "code",
   "execution_count": 127,
   "id": "95d5826a-0515-4236-911d-30b6ffe66ab6",
   "metadata": {},
   "outputs": [],
   "source": [
    "final_wrapper = {'saga_spline': {}}\n",
    "cur_dict = final_wrapper['saga_spline']\n",
    "cur_dict['data'] = [X_train, y_train, X_test, y_test]\n",
    "cur_dict['class'] = LogisticRegression\n",
    "cur_dict['drop'] = []\n",
    "cur_dict['param'] = {'solver':'saga', 'max_iter':5000}\n",
    "cur_dict['scaler'] = spline_scaler"
   ]
  },
  {
   "cell_type": "code",
   "execution_count": 132,
   "id": "0d9476f2-1490-424b-9561-30beffa3c823",
   "metadata": {},
   "outputs": [],
   "source": [
    "def train(data, model_class, model_params, drops, scaler):\n",
    "    result_dict = {} \n",
    "    \n",
    "    metrics = ['accuracy', 'precision', 'recall', 'f1_score']\n",
    "    for m in metrics:\n",
    "        result_dict[m] = []\n",
    "\n",
    "    [X_train, y_train, X_test, y_test] = data\n",
    "    \n",
    "    start_time = time.time()\n",
    "    \n",
    "    X_train = scaler.fit_transform(X_train)  \n",
    "    X_test = scaler.transform(X_test)\n",
    "\n",
    "    model = model_class(**model_params)\n",
    "    model.fit(X_train, y_train)\n",
    "        \n",
    "    y_pred = model.predict(X_test)\n",
    "    conf_mat = confusion_matrix(y_test, y_pred)\n",
    "    final_result = matrix_to_metrics(conf_mat)\n",
    "    for i, val in enumerate(final_result):\n",
    "        result_dict[metrics[i]].append(round(final_result[i], 4))\n",
    "        \n",
    "    end_time = time.time() \n",
    "    elapsed_time = end_time - start_time\n",
    "    readable_time = f\"{elapsed_time:.3f} seconds\"\n",
    "    print(readable_time)\n",
    "\n",
    "    return result_dict"
   ]
  },
  {
   "cell_type": "code",
   "execution_count": 135,
   "id": "7439aae3-65d6-4a7c-abce-6c54f3801852",
   "metadata": {},
   "outputs": [],
   "source": [
    "def run(model_dict):\n",
    "    result_dict = {}\n",
    "    for name in model_dict:\n",
    "        print(name, '='* (20-len(name)))\n",
    "        data = model_dict[name]['data']\n",
    "        model_class = model_dict[name]['class']\n",
    "        model_params= model_dict[name]['param']\n",
    "        drops = model_dict[name]['drop']\n",
    "        scaler = model_dict[name]['scaler']\n",
    "        single_result = train(data, model_class, model_params, drops, scaler)\n",
    "        result_dict[name] = single_result \n",
    "    return result_dict"
   ]
  },
  {
   "cell_type": "code",
   "execution_count": 136,
   "id": "593e285d-770e-4c9f-877f-e07b525e88f0",
   "metadata": {},
   "outputs": [
    {
     "name": "stdout",
     "output_type": "stream",
     "text": [
      "saga_spline =========\n",
      "1.173 seconds\n"
     ]
    }
   ],
   "source": [
    "final_result = run(final_wrapper)['saga_spline']"
   ]
  },
  {
   "cell_type": "code",
   "execution_count": 138,
   "id": "6b583dcd-371a-4d4c-a289-31bb784dc452",
   "metadata": {},
   "outputs": [
    {
     "data": {
      "text/html": [
       "<div>\n",
       "<style scoped>\n",
       "    .dataframe tbody tr th:only-of-type {\n",
       "        vertical-align: middle;\n",
       "    }\n",
       "\n",
       "    .dataframe tbody tr th {\n",
       "        vertical-align: top;\n",
       "    }\n",
       "\n",
       "    .dataframe thead th {\n",
       "        text-align: right;\n",
       "    }\n",
       "</style>\n",
       "<table border=\"1\" class=\"dataframe\">\n",
       "  <thead>\n",
       "    <tr style=\"text-align: right;\">\n",
       "      <th></th>\n",
       "      <th>accuracy</th>\n",
       "      <th>precision</th>\n",
       "      <th>recall</th>\n",
       "      <th>f1_score</th>\n",
       "    </tr>\n",
       "  </thead>\n",
       "  <tbody>\n",
       "    <tr>\n",
       "      <th>0</th>\n",
       "      <td>0.9381</td>\n",
       "      <td>0.9167</td>\n",
       "      <td>0.6667</td>\n",
       "      <td>0.7719</td>\n",
       "    </tr>\n",
       "  </tbody>\n",
       "</table>\n",
       "</div>"
      ],
      "text/plain": [
       "   accuracy  precision  recall  f1_score\n",
       "0    0.9381     0.9167  0.6667    0.7719"
      ]
     },
     "execution_count": 138,
     "metadata": {},
     "output_type": "execute_result"
    }
   ],
   "source": [
    "pd.DataFrame(final_result)"
   ]
  }
 ],
 "metadata": {
  "kernelspec": {
   "display_name": "jupyml",
   "language": "python",
   "name": "ml"
  },
  "language_info": {
   "codemirror_mode": {
    "name": "ipython",
    "version": 3
   },
   "file_extension": ".py",
   "mimetype": "text/x-python",
   "name": "python",
   "nbconvert_exporter": "python",
   "pygments_lexer": "ipython3",
   "version": "3.9.13"
  }
 },
 "nbformat": 4,
 "nbformat_minor": 5
}
