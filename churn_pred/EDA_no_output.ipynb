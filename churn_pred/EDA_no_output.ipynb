{
 "cells": [
  {
   "cell_type": "markdown",
   "id": "5bfaa630-303a-49e0-97ab-2b4a25e76b11",
   "metadata": {},
   "source": [
    "### 1. Importing Packages and Loading Data"
   ]
  },
  {
   "cell_type": "code",
   "execution_count": null,
   "id": "859cba6e-b6f6-4989-9808-db3472098f25",
   "metadata": {},
   "outputs": [],
   "source": [
    "import pandas as pd\n",
    "from zipfile import ZipFile\n",
    "import os\n",
    " \n",
    "from sklearn.model_selection import train_test_split\n",
    "import seaborn as sns\n",
    "import matplotlib.pyplot as plt\n",
    "import numpy as np\n",
    "\n",
    "import math"
   ]
  },
  {
   "cell_type": "code",
   "execution_count": null,
   "id": "6c784f3a-899b-402d-8edd-6854733c3bd9",
   "metadata": {},
   "outputs": [],
   "source": [
    "os.getcwd()"
   ]
  },
  {
   "cell_type": "code",
   "execution_count": null,
   "id": "e24dfd5e-b39f-4305-95f4-73f3729aa2de",
   "metadata": {},
   "outputs": [],
   "source": [
    "file_path = './iranian+churn+dataset.zip'\n",
    "\n",
    "with ZipFile(file_path) as z:\n",
    "    print(z.namelist())"
   ]
  },
  {
   "cell_type": "code",
   "execution_count": null,
   "id": "f36159e3-f56f-4738-9753-07cef3534af4",
   "metadata": {},
   "outputs": [],
   "source": [
    "filename = z.namelist()[0]\n",
    "with ZipFile(file_path).open(filename) as f:\n",
    "    df = pd.read_csv(f)"
   ]
  },
  {
   "cell_type": "markdown",
   "id": "f4f774df-4bbb-4ef9-bf3a-8d20a0f73184",
   "metadata": {},
   "source": [
    "#### 1.1 Basic Data Information"
   ]
  },
  {
   "cell_type": "code",
   "execution_count": null,
   "id": "c45ee4ab-b85b-4eed-aa87-bb0985f5dd09",
   "metadata": {},
   "outputs": [],
   "source": [
    "df.head()"
   ]
  },
  {
   "cell_type": "code",
   "execution_count": null,
   "id": "0cac9ab4-fd1b-4a3a-ada8-ff389f255b85",
   "metadata": {},
   "outputs": [],
   "source": [
    "# data size\n",
    "print(f'num_row: {len(df)}, num_col: {len(df.columns)}')"
   ]
  },
  {
   "cell_type": "code",
   "execution_count": null,
   "id": "dadb4c2c-900e-46e1-a505-37e74280e9a4",
   "metadata": {},
   "outputs": [],
   "source": [
    "# Missing Values per Column -> None\n",
    "df.isnull().sum()"
   ]
  },
  {
   "cell_type": "code",
   "execution_count": null,
   "id": "c861f33f-2324-42e3-8507-f9ab349bf403",
   "metadata": {},
   "outputs": [],
   "source": [
    "# Column Data Types \n",
    "df.dtypes"
   ]
  },
  {
   "cell_type": "markdown",
   "id": "5e25a219-9e9e-4adb-a88e-db54e62be013",
   "metadata": {},
   "source": [
    "### 2. Splitting Data into Train and Test Sets\n",
    "- stratified "
   ]
  },
  {
   "cell_type": "code",
   "execution_count": null,
   "id": "6bbc13f7-4e49-488a-997d-ec6dd534168a",
   "metadata": {},
   "outputs": [],
   "source": [
    "X = df.drop(columns = ['Churn']) # dataframe\n",
    "y = df['Churn'] # series"
   ]
  },
  {
   "cell_type": "code",
   "execution_count": null,
   "id": "183ce605-ec21-4f81-bc09-3699ea6f308d",
   "metadata": {},
   "outputs": [],
   "source": [
    "X_train, X_test, y_train, y_test = train_test_split(X, y, test_size=0.2, random_state=312, stratify=y)"
   ]
  },
  {
   "cell_type": "code",
   "execution_count": null,
   "id": "bb689b61-3912-4eee-9ca5-93aed78ff9b9",
   "metadata": {},
   "outputs": [],
   "source": [
    "print(f'# of train samples: {len(X_train)}')\n",
    "print(f'# of test samples: {len(X_test)}')"
   ]
  },
  {
   "cell_type": "markdown",
   "id": "6815bb0d-c322-4b25-b0bc-3fb0aee4a2fa",
   "metadata": {},
   "source": [
    "### 3. Exploratory Data Analysis\n",
    "- on training samples only\n",
    "- each row represents a customer"
   ]
  },
  {
   "cell_type": "code",
   "execution_count": null,
   "id": "0c33a972-4ed2-4008-a941-14da55e14dfe",
   "metadata": {},
   "outputs": [],
   "source": [
    "# Number of unique values in each predictor column\n",
    "X_train.nunique()"
   ]
  },
  {
   "cell_type": "code",
   "execution_count": null,
   "id": "5073f9ec-5c67-4518-b83a-ae9ae2670e8b",
   "metadata": {},
   "outputs": [],
   "source": [
    "# num_unique_values < 12 -> categorical variable\n",
    "categorical_features = ['Complains', 'Charge  Amount', 'Age Group', 'Tariff Plan', 'Status', 'Age']\n",
    "continuous_features = [c for c in X_train.columns if c not in categorical_features]\n",
    "continuous_features"
   ]
  },
  {
   "cell_type": "code",
   "execution_count": null,
   "id": "d88b01b3-38cc-4761-84ec-56ba59d03850",
   "metadata": {},
   "outputs": [],
   "source": [
    "# Number of unique values in target column\n",
    "y_train.nunique()"
   ]
  },
  {
   "cell_type": "markdown",
   "id": "45a5d2ad-be7c-474b-b226-99d2c4274aab",
   "metadata": {},
   "source": [
    "#### 3.1 Descriptive Statistics"
   ]
  },
  {
   "cell_type": "code",
   "execution_count": null,
   "id": "b33a282e-f1bc-4af9-8528-91ef3a02c6ac",
   "metadata": {},
   "outputs": [],
   "source": [
    "# continuous features\n",
    "X_train[continuous_features].describe()"
   ]
  },
  {
   "cell_type": "code",
   "execution_count": null,
   "id": "f602e1e6-a7f7-45ee-963f-5bda16d0176b",
   "metadata": {},
   "outputs": [],
   "source": [
    "# number of zero values for each continuous columns\n",
    "for c in continuous_features:\n",
    "    print(f'{c}: {(X_train[c] == 0).sum()}')\n",
    "'''\n",
    "통화를 안 쓴 128명 -> 통화 시간 0, 통화 횟수 0, 전화를 건 번호 개수도 0\n",
    "고객 점수가 0점인 사람은 109 -> 통화 기록이 없는 128 명의 하위 집합일까? 만약 그려면 통화 기록이 없으면서 고객 점수가 0점이 아닌 사람들은 뭐지? \n",
    "''';"
   ]
  },
  {
   "cell_type": "code",
   "execution_count": null,
   "id": "19f132cd-c948-4969-9a2a-a440579b342b",
   "metadata": {
    "scrolled": true
   },
   "outputs": [],
   "source": [
    "# frequency table for categorical predictors\n",
    "for c in categorical_features:\n",
    "    print(c + ' ' + '=' * (20 - len(c)))\n",
    "    print(pd.DataFrame(\n",
    "                {'count' : X_train[c].value_counts(),\n",
    "                'percentage' : round(X_train[c].value_counts(normalize=True) * 100, 2)}))\n",
    "    print()\n",
    "'''\n",
    "- Age와 Age 그룹의 분포는 동일하다. 다만 각 범주별 수치를 절대적으로 가져가냐 아니면 그룹 인덱스로 가져가냐 차이 \n",
    "- Complains가 없는 사람들이 대부분을 차지. imbalanced event\n",
    "- Tariff Plan에서도 정액제보다 사용량 기반 요금제가 대부분을 차지. imbalanced event \n",
    "- Status에서는 non-active인 고객이 1/4 정도 되는데, non-active가 정확히 뭘 의미하는거지?\n",
    "- Charge amount는 meta data에 따르면 0~9 범위랬는데 10에 해당되는 행이 5개 있다. 이상치인가 그대로 들고 가도 되려나 \n",
    "''';"
   ]
  },
  {
   "cell_type": "code",
   "execution_count": null,
   "id": "aec03b89-6d89-42e2-aa09-b783b9514059",
   "metadata": {},
   "outputs": [],
   "source": [
    "# y_train distribution\n",
    "pd.DataFrame(\n",
    "            {'count' : y_train.value_counts(),\n",
    "            'percentage' : round(y_train.value_counts(normalize=True) * 100, 2)})"
   ]
  },
  {
   "cell_type": "markdown",
   "id": "93658520-0ba9-43e3-85af-fc61059b9b30",
   "metadata": {},
   "source": [
    "#### 3.2 Data visualization"
   ]
  },
  {
   "cell_type": "markdown",
   "id": "11ea5005-3f7e-434c-b5ea-d9ad33e94376",
   "metadata": {},
   "source": [
    "##### 3.2.1 Distribution\n",
    "- Histogram for continuous variables\n",
    "- Count plot for discrete variables"
   ]
  },
  {
   "cell_type": "code",
   "execution_count": null,
   "id": "93995ff1-649a-43de-a162-b9e2a1dbc640",
   "metadata": {},
   "outputs": [],
   "source": [
    "def draw_histogram(col_array):\n",
    "    n_cols = 3\n",
    "    n_rows = math.ceil(len(col_array) / n_cols)\n",
    "\n",
    "    fig, axes = plt.subplots(n_rows, n_cols, figsize=(15, 5 * n_rows))\n",
    "\n",
    "    for i, col in enumerate(col_array):\n",
    "        row = i // n_cols\n",
    "        col_idx = i % n_cols\n",
    "        sns.histplot(data=X_train, x=col, ax=axes[row, col_idx])\n",
    "\n",
    "    if len(col_array) % n_cols != 0:\n",
    "        for j in range(len(col_array), n_rows * n_cols):\n",
    "            fig.delaxes(axes.flat[j])\n",
    "    \n",
    "    plt.tight_layout()\n",
    "    plt.show()"
   ]
  },
  {
   "cell_type": "code",
   "execution_count": null,
   "id": "65119103-f4e7-4c0a-9530-553a24830b62",
   "metadata": {},
   "outputs": [],
   "source": [
    "def draw_countplot(col_array):\n",
    "    n_cols = 3\n",
    "    n_rows = math.ceil(len(col_array) / n_cols)\n",
    "\n",
    "    fig, axes = plt.subplots(n_rows, n_cols, figsize=(15, 5 * n_rows))\n",
    "\n",
    "    for i, col in enumerate(col_array):\n",
    "        row = i // n_cols\n",
    "        col_idx = i % n_cols\n",
    "        sns.countplot(data=X_train, x=col, ax=axes[row, col_idx], color='lightgreen')\n",
    "\n",
    "    if len(col_array) % n_cols != 0:\n",
    "        for j in range(len(col_array), n_rows * n_cols):\n",
    "            fig.delaxes(axes.flat[j])\n",
    "    \n",
    "    plt.tight_layout()\n",
    "    plt.show()"
   ]
  },
  {
   "cell_type": "code",
   "execution_count": null,
   "id": "c27b2896-81f7-478b-81b9-4efb547f3368",
   "metadata": {},
   "outputs": [],
   "source": [
    "def count_outlier(col):\n",
    "    data = X_train[col]\n",
    "    Q1 = np.percentile(data, 25)\n",
    "    Q3 = np.percentile(data, 75)\n",
    "    IQR = Q3 - Q1\n",
    "    lower_bound = Q1 - 1.5 * IQR\n",
    "    upper_bound = Q3 + 1.5 * IQR\n",
    "    outliers = data[(data < lower_bound) | (data > upper_bound)]\n",
    "    print(f\"{col}: {len(outliers)}\")"
   ]
  },
  {
   "cell_type": "code",
   "execution_count": null,
   "id": "1a81a35d-bd30-4127-a73a-db491f4e542a",
   "metadata": {},
   "outputs": [],
   "source": [
    "for c in continuous_features:\n",
    "    count_outlier(c)"
   ]
  },
  {
   "cell_type": "code",
   "execution_count": null,
   "id": "5f8094fd-f55a-4dc0-919b-141d96724db5",
   "metadata": {},
   "outputs": [],
   "source": [
    "draw_histogram(continuous_features)"
   ]
  },
  {
   "cell_type": "code",
   "execution_count": null,
   "id": "b6b837f3-1fff-4e88-8d60-68c4f3995dbf",
   "metadata": {},
   "outputs": [],
   "source": [
    "import pandas as pd\n",
    "import numpy as np\n",
    "\n",
    "# Original data\n",
    "data = pd.DataFrame({\n",
    "    'var1': [0, 1, 2, 3, 4],\n",
    "    'var2': [1, 2, 3, 4, 5],\n",
    "    'var3': [10, 20, 30, 40, 50]\n",
    "})\n",
    "\n",
    "# Function to apply (log transformation in this case, adding 1 to avoid log(0))\n",
    "log_transform = lambda x: np.log(x + 1)\n",
    "\n",
    "# Create a dictionary where keys are column names and values are log-transformed column data\n",
    "transformed_data_dict = {col: log_transform(data[col]) for col in data.columns}\n",
    "\n",
    "# Convert the dictionary back to a DataFrame (this will maintain column names)\n",
    "transformed_data = pd.DataFrame(transformed_data_dict)\n",
    "\n",
    "# Display the transformed DataFrame\n",
    "print(transformed_data)"
   ]
  },
  {
   "cell_type": "code",
   "execution_count": null,
   "id": "d5a617e6-7536-4f72-b7c6-b3262673e0aa",
   "metadata": {},
   "outputs": [],
   "source": [
    "# Calculate skewness for each variable\n",
    "from scipy.stats import skew\n",
    "\n",
    "skewness = pd.DataFrame({'col': continuous_features,\n",
    "                        'skewness': [skew(X_train[col]) for col in continuous_features]})\n",
    "\n",
    "skewness.sort_values(by='skewness', key=abs, ascending=False)"
   ]
  },
  {
   "cell_type": "code",
   "execution_count": null,
   "id": "5dde383a-d6b1-4287-9267-287ad5776f1a",
   "metadata": {},
   "outputs": [],
   "source": [
    "draw_countplot(categorical_features)"
   ]
  },
  {
   "cell_type": "markdown",
   "id": "17412e17-553a-42be-9100-32aa3964ad60",
   "metadata": {},
   "source": [
    "#### 3.3 Correlation Analysis of continuous predictors"
   ]
  },
  {
   "cell_type": "code",
   "execution_count": null,
   "id": "f7be36e3-8314-4ac0-b928-8eb7bf519687",
   "metadata": {},
   "outputs": [],
   "source": [
    "from scipy.stats import pearsonr\n",
    "\n",
    "def calculate_correlations(df):\n",
    "    correlations = []\n",
    "    columns = df.columns\n",
    "    for i in range(len(columns)):\n",
    "        for j in range(i + 1, len(columns)):\n",
    "            var1 = df[columns[i]]\n",
    "            var2 = df[columns[j]]\n",
    "            corr, p_value = pearsonr(var1, var2)\n",
    "            correlations.append((columns[i], columns[j], corr, p_value))\n",
    "\n",
    "    corr_df = pd.DataFrame(correlations, columns=['Variable 1', 'Variable 2', 'Correlation', 'P-Value'])\n",
    "    return corr_df.sort_values(by='Correlation', ascending=False)"
   ]
  },
  {
   "cell_type": "code",
   "execution_count": null,
   "id": "c4ec95e9-4bc0-443e-98a0-e3e7cedcaa56",
   "metadata": {},
   "outputs": [],
   "source": [
    "corr_df = calculate_correlations(X_train[continuous_features])\n",
    "top_corr = corr_df[(corr_df['Correlation'] > 0.5) & (corr_df['P-Value'] < 0.05)]\n",
    "top_corr"
   ]
  },
  {
   "cell_type": "code",
   "execution_count": null,
   "id": "5c3bece5-bea5-4a5e-aea3-05dce92039cb",
   "metadata": {},
   "outputs": [],
   "source": [
    "col_list = ['Seconds of Use', 'Frequency of use', 'Frequency of SMS']"
   ]
  },
  {
   "cell_type": "code",
   "execution_count": null,
   "id": "90b93839-076f-4650-978e-4c8948e1b9da",
   "metadata": {},
   "outputs": [],
   "source": [
    "rel_pair = {}\n",
    "def get_rel_pair(col_list):\n",
    "    for col in col_list:\n",
    "        rel_pair[col] = []\n",
    "    for col in col_list:\n",
    "        cond1 = (top_corr['Variable 1'] == col)\n",
    "        cond2 = (top_corr['Variable 2'] == col)\n",
    "        pairs = list(top_corr[cond1 | cond2][['Variable 1', 'Variable 2']].values)\n",
    "        for a,b in pairs:\n",
    "            if a in rel_pair and b in rel_pair:\n",
    "                if a not in rel_pair[b] and b not in rel_pair[a]:\n",
    "                    rel_pair[a].append(b)\n",
    "            elif a in rel_pair and b not in rel_pair[a]:\n",
    "                rel_pair[a].append(b)\n",
    "            elif b in rel_pair and a not in rel_pair[b]:\n",
    "                rel_pair[b].append(a)"
   ]
  },
  {
   "cell_type": "code",
   "execution_count": null,
   "id": "68cf435b-25c0-4d8b-aa34-6e88fda4c75d",
   "metadata": {},
   "outputs": [],
   "source": [
    "get_rel_pair(col_list)\n",
    "rel_pair"
   ]
  },
  {
   "cell_type": "code",
   "execution_count": null,
   "id": "86d8c7fb-186d-4259-9e28-165e9b4a931e",
   "metadata": {},
   "outputs": [],
   "source": [
    "def get_multi_pairplot(base, others):\n",
    "    fig, axes = plt.subplots(1, len(others), figsize=(4 * len(others), 4))\n",
    "    if len(others) == 1:\n",
    "        var = others[0]\n",
    "        sns.regplot(x=base, y=var, data=X_train, ax=axes, scatter_kws={'alpha': 0.5}, line_kws={'color': 'red', 'linewidth': 2, 'linestyle': '--'})\n",
    "        axes.set_title(f'{base} vs {var}')\n",
    "    else:\n",
    "        for i, var in enumerate(others):\n",
    "            sns.regplot(x=base, y=var, data=X_train, ax=axes[i], scatter_kws={'alpha':0.5}, line_kws={'color': 'red', 'linewidth': 2, 'linestyle': '--'})\n",
    "            axes[i].set_title(f'{base} vs {var}')\n",
    "    plt.tight_layout()\n",
    "    plt.show()"
   ]
  },
  {
   "cell_type": "code",
   "execution_count": null,
   "id": "6a8294dc-d2da-4ed7-8b8b-ca8a0ebdddfe",
   "metadata": {},
   "outputs": [],
   "source": [
    "for k in rel_pair:\n",
    "    get_multi_pairplot(k, rel_pair[k])"
   ]
  },
  {
   "cell_type": "code",
   "execution_count": null,
   "id": "80814c7c-e596-4b66-bacc-07c1d3cf20c0",
   "metadata": {},
   "outputs": [],
   "source": [
    "corr = X_train[continuous_features].corr()\n",
    "sns.heatmap(corr, annot=True, cmap='coolwarm')\n",
    "plt.show()"
   ]
  },
  {
   "cell_type": "code",
   "execution_count": null,
   "id": "4de71c97-ff00-4946-9a85-33932a320409",
   "metadata": {},
   "outputs": [],
   "source": [
    "from statsmodels.stats.outliers_influence import variance_inflation_factor\n",
    "\n",
    "vif_data = pd.DataFrame()\n",
    "vif_data['Variable'] = continuous_features\n",
    "vif_data['VIF'] = [variance_inflation_factor(X_train[continuous_features], i) for i in range(len(continuous_features))]"
   ]
  },
  {
   "cell_type": "code",
   "execution_count": null,
   "id": "393b3a42-b14c-456d-a230-fe0c81f680be",
   "metadata": {},
   "outputs": [],
   "source": [
    "vif_data.sort_values(by='VIF', ascending=False)"
   ]
  },
  {
   "cell_type": "code",
   "execution_count": null,
   "id": "2d6436b8-3310-4a38-a897-6c43ee0e434b",
   "metadata": {},
   "outputs": [],
   "source": [
    "# candidates for column removal\n",
    "vif_data = pd.DataFrame()\n",
    "temp = [x for x in continuous_features if x not in ['Frequency of use', 'Customer Value']]\n",
    "vif_data['Variable'] = temp\n",
    "vif_data['VIF'] = [variance_inflation_factor(X_train[temp], i) for i in range(len(temp))]"
   ]
  },
  {
   "cell_type": "code",
   "execution_count": null,
   "id": "9c711768-8367-4bed-af45-d328bdd3f005",
   "metadata": {},
   "outputs": [],
   "source": [
    "vif_data"
   ]
  },
  {
   "cell_type": "markdown",
   "id": "9d0b68f1-5f68-4399-9ec8-36e61974704c",
   "metadata": {},
   "source": [
    "#### 3.4 Predictors vs Response\n",
    "- heatmap for categorical variables\n",
    "- scatter plot for continuous variables"
   ]
  },
  {
   "cell_type": "code",
   "execution_count": null,
   "id": "831db0ab-c4c9-4af3-a819-857a82ac45f8",
   "metadata": {},
   "outputs": [],
   "source": [
    "def draw_heatmap(col_array):  \n",
    "    n_cols = 3\n",
    "    n_rows = math.ceil(len(col_array) / n_cols)\n",
    "\n",
    "    fig, axes = plt.subplots(n_rows, n_cols, figsize=(15, 5 * n_rows))\n",
    "\n",
    "    for i, col in enumerate(col_array):\n",
    "        row = i // n_cols\n",
    "        col_idx = i % n_cols\n",
    "        crosstab_result = pd.crosstab(X_train[col], y_train)\n",
    "        sns.heatmap(crosstab_result, annot=True, cmap='coolwarm',  ax=axes[row, col_idx])\n",
    "\n",
    "    if len(col_array) % n_cols != 0:\n",
    "        for j in range(len(col_array), n_rows * n_cols):\n",
    "            fig.delaxes(axes.flat[j])\n",
    "    \n",
    "    plt.tight_layout()\n",
    "    plt.show()"
   ]
  },
  {
   "cell_type": "code",
   "execution_count": null,
   "id": "d19dad59-ee5f-47be-9ff2-11f80b5e05df",
   "metadata": {},
   "outputs": [],
   "source": [
    "def draw_scatter(col_array):\n",
    "    n_cols = 3\n",
    "    n_rows = math.ceil(len(col_array) / n_cols)\n",
    "\n",
    "    fig, axes = plt.subplots(n_rows, n_cols, figsize=(15, 5 * n_rows))\n",
    "\n",
    "    for i, col in enumerate(col_array):\n",
    "        row = i // n_cols\n",
    "        col_idx = i % n_cols\n",
    "        sns.scatterplot(x=X_train[col], y=y_train, ax=axes[row, col_idx])\n",
    "\n",
    "    if len(col_array) % n_cols != 0:\n",
    "        for j in range(len(col_array), n_rows * n_cols):\n",
    "            fig.delaxes(axes.flat[j])\n",
    "    \n",
    "    plt.tight_layout()\n",
    "    plt.show()"
   ]
  },
  {
   "cell_type": "code",
   "execution_count": null,
   "id": "d4cdeecf-6ae5-4bb3-b0ab-b93149b18461",
   "metadata": {},
   "outputs": [],
   "source": [
    "draw_scatter(continuous_features) # 명확한 선형 관계 안 보임 "
   ]
  },
  {
   "cell_type": "code",
   "execution_count": null,
   "id": "11e45c17-09d0-4316-9950-bb655cf57a40",
   "metadata": {},
   "outputs": [],
   "source": [
    "draw_heatmap(categorical_features) # 두 축에서 모두 다수인 클래스에 다수가 분포한다는 것밖에..."
   ]
  },
  {
   "cell_type": "code",
   "execution_count": null,
   "id": "fe72f958-ee9c-426a-bf67-82fde79bcb99",
   "metadata": {},
   "outputs": [],
   "source": []
  }
 ],
 "metadata": {
  "kernelspec": {
   "display_name": "jupyml",
   "language": "python",
   "name": "ml"
  },
  "language_info": {
   "codemirror_mode": {
    "name": "ipython",
    "version": 3
   },
   "file_extension": ".py",
   "mimetype": "text/x-python",
   "name": "python",
   "nbconvert_exporter": "python",
   "pygments_lexer": "ipython3",
   "version": "3.9.13"
  }
 },
 "nbformat": 4,
 "nbformat_minor": 5
}
